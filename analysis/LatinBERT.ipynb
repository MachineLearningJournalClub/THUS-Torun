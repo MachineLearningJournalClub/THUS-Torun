{
 "cells": [
  {
   "cell_type": "markdown",
   "id": "58e564f8",
   "metadata": {
    "colab_type": "text",
    "id": "view-in-github"
   },
   "source": [
    "<a href=\"https://colab.research.google.com/github/pietro-sillano/LatinBERT/blob/main/LatinBERT.ipynb\" target=\"_parent\"><img src=\"https://colab.research.google.com/assets/colab-badge.svg\" alt=\"Open In Colab\"/></a>"
   ]
  },
  {
   "cell_type": "markdown",
   "id": "VuHrdptsHSxa",
   "metadata": {
    "id": "VuHrdptsHSxa"
   },
   "source": [
    "# SETTING THE ENVIRONMENT\n",
    "\n",
    "\n",
    "\n"
   ]
  },
  {
   "cell_type": "markdown",
   "id": "UCoYyT-9WrDX",
   "metadata": {
    "id": "UCoYyT-9WrDX"
   },
   "source": [
    "[![Open In Colab](https://colab.research.google.com/assets/colab-badge.svg)](https://colab.research.google.com/drive/1j5s5QPeHorkasZH-4_8LIDZbG6SYZ-zw?usp=sharing)"
   ]
  },
  {
   "cell_type": "markdown",
   "id": "l0Eug7z8orRo",
   "metadata": {
    "id": "l0Eug7z8orRo"
   },
   "source": [
    "# Download Latin Library"
   ]
  },
  {
   "cell_type": "code",
   "execution_count": null,
   "id": "k6TsDcv3n40W",
   "metadata": {
    "colab": {
     "base_uri": "https://localhost:8080/"
    },
    "id": "k6TsDcv3n40W",
    "outputId": "97eed0aa-a1c3-41b4-cac4-c0856aac2c6e"
   },
   "outputs": [
    {
     "name": "stdout",
     "output_type": "stream",
     "text": [
      "--2021-07-12 16:50:48--  https://docs.google.com/uc?export=download&confirm=kJ8g&id=1GRe3eFmQBDdF1kIT9T75aPTdquaf8Z8s\n",
      "Resolving docs.google.com (docs.google.com)... 74.125.204.113, 74.125.204.138, 74.125.204.139, ...\n",
      "Connecting to docs.google.com (docs.google.com)|74.125.204.113|:443... connected.\n",
      "HTTP request sent, awaiting response... 302 Moved Temporarily\n",
      "Location: https://doc-0s-54-docs.googleusercontent.com/docs/securesc/ekd98cbmviobnb926m57ha0so6i6v9ef/tq59j0ufoa3kvlv1quapsq8h89b3knu4/1626108600000/09859182337762586004/07040165942664020251Z/1GRe3eFmQBDdF1kIT9T75aPTdquaf8Z8s?e=download [following]\n",
      "--2021-07-12 16:50:48--  https://doc-0s-54-docs.googleusercontent.com/docs/securesc/ekd98cbmviobnb926m57ha0so6i6v9ef/tq59j0ufoa3kvlv1quapsq8h89b3knu4/1626108600000/09859182337762586004/07040165942664020251Z/1GRe3eFmQBDdF1kIT9T75aPTdquaf8Z8s?e=download\n",
      "Resolving doc-0s-54-docs.googleusercontent.com (doc-0s-54-docs.googleusercontent.com)... 64.233.188.132, 2404:6800:4008:c06::84\n",
      "Connecting to doc-0s-54-docs.googleusercontent.com (doc-0s-54-docs.googleusercontent.com)|64.233.188.132|:443... connected.\n",
      "HTTP request sent, awaiting response... 302 Found\n",
      "Location: https://docs.google.com/nonceSigner?nonce=fjp1m85gnjnj8&continue=https://doc-0s-54-docs.googleusercontent.com/docs/securesc/ekd98cbmviobnb926m57ha0so6i6v9ef/tq59j0ufoa3kvlv1quapsq8h89b3knu4/1626108600000/09859182337762586004/07040165942664020251Z/1GRe3eFmQBDdF1kIT9T75aPTdquaf8Z8s?e%3Ddownload&hash=fe5gket170cu1ujo0m249qmt09fifoh2 [following]\n",
      "--2021-07-12 16:50:48--  https://docs.google.com/nonceSigner?nonce=fjp1m85gnjnj8&continue=https://doc-0s-54-docs.googleusercontent.com/docs/securesc/ekd98cbmviobnb926m57ha0so6i6v9ef/tq59j0ufoa3kvlv1quapsq8h89b3knu4/1626108600000/09859182337762586004/07040165942664020251Z/1GRe3eFmQBDdF1kIT9T75aPTdquaf8Z8s?e%3Ddownload&hash=fe5gket170cu1ujo0m249qmt09fifoh2\n",
      "Connecting to docs.google.com (docs.google.com)|74.125.204.113|:443... connected.\n",
      "HTTP request sent, awaiting response... 302 Found\n",
      "Location: https://doc-0s-54-docs.googleusercontent.com/docs/securesc/ekd98cbmviobnb926m57ha0so6i6v9ef/tq59j0ufoa3kvlv1quapsq8h89b3knu4/1626108600000/09859182337762586004/07040165942664020251Z/1GRe3eFmQBDdF1kIT9T75aPTdquaf8Z8s?e=download&nonce=fjp1m85gnjnj8&user=07040165942664020251Z&hash=jb6jge542fcoj1gi1fql41iuh1ukjso4 [following]\n",
      "--2021-07-12 16:50:49--  https://doc-0s-54-docs.googleusercontent.com/docs/securesc/ekd98cbmviobnb926m57ha0so6i6v9ef/tq59j0ufoa3kvlv1quapsq8h89b3knu4/1626108600000/09859182337762586004/07040165942664020251Z/1GRe3eFmQBDdF1kIT9T75aPTdquaf8Z8s?e=download&nonce=fjp1m85gnjnj8&user=07040165942664020251Z&hash=jb6jge542fcoj1gi1fql41iuh1ukjso4\n",
      "Connecting to doc-0s-54-docs.googleusercontent.com (doc-0s-54-docs.googleusercontent.com)|64.233.188.132|:443... connected.\n",
      "HTTP request sent, awaiting response... 200 OK\n",
      "Length: unspecified [application/gzip]\n",
      "Saving to: ‘latin_library_text.tar.gz’\n",
      "\n",
      "latin_library_text.     [  <=>               ]  35.12M   161MB/s    in 0.2s    \n",
      "\n",
      "2021-07-12 16:50:50 (161 MB/s) - ‘latin_library_text.tar.gz’ saved [36823181]\n",
      "\n",
      "mkdir: cannot create directory ‘data’: File exists\n",
      "mv: cannot stat 'latin_library_text.tar': No such file or directory\n",
      "tar: data/latin_bert.tar: Cannot open: No such file or directory\n",
      "tar: Error is not recoverable: exiting now\n"
     ]
    }
   ],
   "source": [
    "!wget --no-check-certificate --load-cookies /tmp/cookies.txt \"https://docs.google.com/uc?export=download&confirm=$(wget --quiet --save-cookies /tmp/cookies.txt --keep-session-cookies --no-check-certificate 'https://docs.google.com/uc?export=download&id=1GRe3eFmQBDdF1kIT9T75aPTdquaf8Z8s' -O- | sed -rn 's/.*confirm=([0-9A-Za-z_]+).*/\\1\\n/p')&id=1GRe3eFmQBDdF1kIT9T75aPTdquaf8Z8s\" -O latin_library_text.tar.gz && rm -f /tmp/cookies.txt\n",
    "!mkdir data\n",
    "!mv latin_library_text.tar.gz data/\n",
    "!cd data\n",
    "!tar -xf data/latin_bert.tar"
   ]
  },
  {
   "cell_type": "markdown",
   "id": "qZH2zS75o0Md",
   "metadata": {
    "id": "qZH2zS75o0Md"
   },
   "source": [
    "# Download BERT Model"
   ]
  },
  {
   "cell_type": "code",
   "execution_count": null,
   "id": "hCv7o4b1nhx8",
   "metadata": {
    "colab": {
     "base_uri": "https://localhost:8080/"
    },
    "id": "hCv7o4b1nhx8",
    "outputId": "73793fbd-0677-452b-f896-08997720b868"
   },
   "outputs": [
    {
     "name": "stdout",
     "output_type": "stream",
     "text": [
      "--2021-07-12 16:44:41--  https://docs.google.com/uc?export=download&confirm=zLI7&id=1Te_14UB-DZ8wYPhHGyDg7LadDTjNzpti\n",
      "Resolving docs.google.com (docs.google.com)... 64.233.189.102, 64.233.189.138, 64.233.189.100, ...\n",
      "Connecting to docs.google.com (docs.google.com)|64.233.189.102|:443... connected.\n",
      "HTTP request sent, awaiting response... 302 Moved Temporarily\n",
      "Location: https://doc-0g-98-docs.googleusercontent.com/docs/securesc/ncdq5i412l48954fjsp7ljf4i0sok60a/hq4khg6obrqcj3flfebqd5317esq1vle/1626108225000/09859182337762586004/08031830535061480889Z/1Te_14UB-DZ8wYPhHGyDg7LadDTjNzpti?e=download [following]\n",
      "--2021-07-12 16:44:41--  https://doc-0g-98-docs.googleusercontent.com/docs/securesc/ncdq5i412l48954fjsp7ljf4i0sok60a/hq4khg6obrqcj3flfebqd5317esq1vle/1626108225000/09859182337762586004/08031830535061480889Z/1Te_14UB-DZ8wYPhHGyDg7LadDTjNzpti?e=download\n",
      "Resolving doc-0g-98-docs.googleusercontent.com (doc-0g-98-docs.googleusercontent.com)... 64.233.188.132, 2404:6800:4008:c06::84\n",
      "Connecting to doc-0g-98-docs.googleusercontent.com (doc-0g-98-docs.googleusercontent.com)|64.233.188.132|:443... connected.\n",
      "HTTP request sent, awaiting response... 302 Found\n",
      "Location: https://docs.google.com/nonceSigner?nonce=755f63sdo9t56&continue=https://doc-0g-98-docs.googleusercontent.com/docs/securesc/ncdq5i412l48954fjsp7ljf4i0sok60a/hq4khg6obrqcj3flfebqd5317esq1vle/1626108225000/09859182337762586004/08031830535061480889Z/1Te_14UB-DZ8wYPhHGyDg7LadDTjNzpti?e%3Ddownload&hash=tjaj5bfmuohh2ajov1j8pco8vgb7fibn [following]\n",
      "--2021-07-12 16:44:41--  https://docs.google.com/nonceSigner?nonce=755f63sdo9t56&continue=https://doc-0g-98-docs.googleusercontent.com/docs/securesc/ncdq5i412l48954fjsp7ljf4i0sok60a/hq4khg6obrqcj3flfebqd5317esq1vle/1626108225000/09859182337762586004/08031830535061480889Z/1Te_14UB-DZ8wYPhHGyDg7LadDTjNzpti?e%3Ddownload&hash=tjaj5bfmuohh2ajov1j8pco8vgb7fibn\n",
      "Connecting to docs.google.com (docs.google.com)|64.233.189.102|:443... connected.\n",
      "HTTP request sent, awaiting response... 302 Found\n",
      "Location: https://doc-0g-98-docs.googleusercontent.com/docs/securesc/ncdq5i412l48954fjsp7ljf4i0sok60a/hq4khg6obrqcj3flfebqd5317esq1vle/1626108225000/09859182337762586004/08031830535061480889Z/1Te_14UB-DZ8wYPhHGyDg7LadDTjNzpti?e=download&nonce=755f63sdo9t56&user=08031830535061480889Z&hash=6hk29jkb5n7bqg05082ihpnggonlfcct [following]\n",
      "--2021-07-12 16:44:41--  https://doc-0g-98-docs.googleusercontent.com/docs/securesc/ncdq5i412l48954fjsp7ljf4i0sok60a/hq4khg6obrqcj3flfebqd5317esq1vle/1626108225000/09859182337762586004/08031830535061480889Z/1Te_14UB-DZ8wYPhHGyDg7LadDTjNzpti?e=download&nonce=755f63sdo9t56&user=08031830535061480889Z&hash=6hk29jkb5n7bqg05082ihpnggonlfcct\n",
      "Connecting to doc-0g-98-docs.googleusercontent.com (doc-0g-98-docs.googleusercontent.com)|64.233.188.132|:443... connected.\n",
      "HTTP request sent, awaiting response... 200 OK\n",
      "Length: unspecified [application/x-tar]\n",
      "Saving to: ‘latin_bert.tar’\n",
      "\n",
      "latin_bert.tar          [              <=>   ] 427.27M   152MB/s    in 2.8s    \n",
      "\n",
      "2021-07-12 16:44:45 (152 MB/s) - ‘latin_bert.tar’ saved [448020480]\n",
      "\n"
     ]
    }
   ],
   "source": [
    "!wget --no-check-certificate --load-cookies /tmp/cookies.txt \"https://docs.google.com/uc?export=download&confirm=$(wget --quiet --save-cookies /tmp/cookies.txt --keep-session-cookies --no-check-certificate 'https://docs.google.com/uc?export=download&id=1Te_14UB-DZ8wYPhHGyDg7LadDTjNzpti' -O- | sed -rn 's/.*confirm=([0-9A-Za-z_]+).*/\\1\\n/p')&id=1Te_14UB-DZ8wYPhHGyDg7LadDTjNzpti\" -O latin_bert.tar && rm -f /tmp/cookies.txt\n",
    "!mkdir models\n",
    "!mv latin_bert.tar models/\n",
    "!cd models\n",
    "!tar -xf models/latin_bert.tar "
   ]
  },
  {
   "cell_type": "markdown",
   "id": "O_LDwuYmo4Mc",
   "metadata": {
    "id": "O_LDwuYmo4Mc"
   },
   "source": [
    "# Download Utils file"
   ]
  },
  {
   "cell_type": "code",
   "execution_count": null,
   "id": "EX9q2DI2pTTu",
   "metadata": {
    "colab": {
     "base_uri": "https://localhost:8080/"
    },
    "id": "EX9q2DI2pTTu",
    "outputId": "b5b746c3-cf57-4824-ebe7-6c5b41515083"
   },
   "outputs": [
    {
     "name": "stdout",
     "output_type": "stream",
     "text": [
      "Cloning into 'LatinBERT'...\n",
      "remote: Enumerating objects: 2814, done.\u001b[K\n",
      "remote: Counting objects: 100% (2814/2814), done.\u001b[K\n",
      "remote: Compressing objects: 100% (2282/2282), done.\u001b[K\n",
      "remote: Total 2814 (delta 14), reused 2776 (delta 4), pack-reused 0\u001b[K\n",
      "Receiving objects: 100% (2814/2814), 39.96 MiB | 17.18 MiB/s, done.\n",
      "Resolving deltas: 100% (14/14), done.\n"
     ]
    }
   ],
   "source": [
    "!git clone https://github.com/pietro-sillano/LatinBERT LatinBERT"
   ]
  },
  {
   "cell_type": "markdown",
   "id": "4gtFwA-Zo-wj",
   "metadata": {
    "id": "4gtFwA-Zo-wj"
   },
   "source": [
    "# Install Libraries"
   ]
  },
  {
   "cell_type": "code",
   "execution_count": null,
   "id": "5XNT-5Nr2Yjw",
   "metadata": {
    "colab": {
     "base_uri": "https://localhost:8080/"
    },
    "id": "5XNT-5Nr2Yjw",
    "outputId": "4644e68d-d217-4ba2-b7ca-c5517f7fba5a"
   },
   "outputs": [
    {
     "name": "stdout",
     "output_type": "stream",
     "text": [
      "Collecting spacy\n",
      "\u001b[?25l  Downloading https://files.pythonhosted.org/packages/c1/da/61f934c6ae177a291c77246ef91a78cab44a2d76f79e6892ca7b17571adf/spacy-3.1.0-cp37-cp37m-manylinux_2_17_x86_64.manylinux2014_x86_64.whl (6.4MB)\n",
      "\u001b[K     |████████████████████████████████| 6.4MB 4.6MB/s \n",
      "\u001b[?25hRequirement already satisfied, skipping upgrade: requests<3.0.0,>=2.13.0 in /usr/local/lib/python3.7/dist-packages (from spacy) (2.23.0)\n",
      "Requirement already satisfied, skipping upgrade: preshed<3.1.0,>=3.0.2 in /usr/local/lib/python3.7/dist-packages (from spacy) (3.0.5)\n",
      "Collecting pydantic!=1.8,!=1.8.1,<1.9.0,>=1.7.4\n",
      "\u001b[?25l  Downloading https://files.pythonhosted.org/packages/9f/f2/2d5425efe57f6c4e06cbe5e587c1fd16929dcf0eb90bd4d3d1e1c97d1151/pydantic-1.8.2-cp37-cp37m-manylinux2014_x86_64.whl (10.1MB)\n",
      "\u001b[K     |████████████████████████████████| 10.1MB 20.2MB/s \n",
      "\u001b[?25hRequirement already satisfied, skipping upgrade: packaging>=20.0 in /usr/local/lib/python3.7/dist-packages (from spacy) (20.9)\n",
      "Requirement already satisfied, skipping upgrade: cymem<2.1.0,>=2.0.2 in /usr/local/lib/python3.7/dist-packages (from spacy) (2.0.5)\n",
      "Collecting pathy>=0.3.5\n",
      "\u001b[?25l  Downloading https://files.pythonhosted.org/packages/65/ae/ecfa3e2dc267010fa320034be0eb3a8e683dc98dae7e70f92b41605b4d35/pathy-0.6.0-py3-none-any.whl (42kB)\n",
      "\u001b[K     |████████████████████████████████| 51kB 7.2MB/s \n",
      "\u001b[?25hRequirement already satisfied, skipping upgrade: tqdm<5.0.0,>=4.38.0 in /usr/local/lib/python3.7/dist-packages (from spacy) (4.41.1)\n",
      "Collecting spacy-legacy<3.1.0,>=3.0.7\n",
      "  Downloading https://files.pythonhosted.org/packages/d3/e8/1bc00eeff3faf1c50bde941f88a491a5c1128debb75dd8c913401e71585c/spacy_legacy-3.0.8-py2.py3-none-any.whl\n",
      "Requirement already satisfied, skipping upgrade: setuptools in /usr/local/lib/python3.7/dist-packages (from spacy) (57.0.0)\n",
      "Collecting srsly<3.0.0,>=2.4.1\n",
      "\u001b[?25l  Downloading https://files.pythonhosted.org/packages/c3/84/dfdfc9f6f04f6b88207d96d9520b911e5fec0c67ff47a0dea31ab5429a1e/srsly-2.4.1-cp37-cp37m-manylinux2014_x86_64.whl (456kB)\n",
      "\u001b[K     |████████████████████████████████| 460kB 34.0MB/s \n",
      "\u001b[?25hCollecting thinc<8.1.0,>=8.0.7\n",
      "\u001b[?25l  Downloading https://files.pythonhosted.org/packages/7a/6e/bd2da3d71ab2d175248949ac106fee09ae13bfaca39002eabdbd908b7440/thinc-8.0.7-cp37-cp37m-manylinux_2_17_x86_64.manylinux2014_x86_64.whl (619kB)\n",
      "\u001b[K     |████████████████████████████████| 624kB 33.1MB/s \n",
      "\u001b[?25hRequirement already satisfied, skipping upgrade: murmurhash<1.1.0,>=0.28.0 in /usr/local/lib/python3.7/dist-packages (from spacy) (1.0.5)\n",
      "Collecting catalogue<2.1.0,>=2.0.4\n",
      "  Downloading https://files.pythonhosted.org/packages/9c/10/dbc1203a4b1367c7b02fddf08cb2981d9aa3e688d398f587cea0ab9e3bec/catalogue-2.0.4-py3-none-any.whl\n",
      "Requirement already satisfied, skipping upgrade: typing-extensions<4.0.0.0,>=3.7.4; python_version < \"3.8\" in /usr/local/lib/python3.7/dist-packages (from spacy) (3.7.4.3)\n",
      "Requirement already satisfied, skipping upgrade: jinja2 in /usr/local/lib/python3.7/dist-packages (from spacy) (2.11.3)\n",
      "Requirement already satisfied, skipping upgrade: numpy>=1.15.0 in /usr/local/lib/python3.7/dist-packages (from spacy) (1.19.5)\n",
      "Requirement already satisfied, skipping upgrade: blis<0.8.0,>=0.4.0 in /usr/local/lib/python3.7/dist-packages (from spacy) (0.4.1)\n",
      "Requirement already satisfied, skipping upgrade: wasabi<1.1.0,>=0.8.1 in /usr/local/lib/python3.7/dist-packages (from spacy) (0.8.2)\n",
      "Collecting typer<0.4.0,>=0.3.0\n",
      "  Downloading https://files.pythonhosted.org/packages/90/34/d138832f6945432c638f32137e6c79a3b682f06a63c488dcfaca6b166c64/typer-0.3.2-py3-none-any.whl\n",
      "Requirement already satisfied, skipping upgrade: urllib3!=1.25.0,!=1.25.1,<1.26,>=1.21.1 in /usr/local/lib/python3.7/dist-packages (from requests<3.0.0,>=2.13.0->spacy) (1.24.3)\n",
      "Requirement already satisfied, skipping upgrade: certifi>=2017.4.17 in /usr/local/lib/python3.7/dist-packages (from requests<3.0.0,>=2.13.0->spacy) (2021.5.30)\n",
      "Requirement already satisfied, skipping upgrade: chardet<4,>=3.0.2 in /usr/local/lib/python3.7/dist-packages (from requests<3.0.0,>=2.13.0->spacy) (3.0.4)\n",
      "Requirement already satisfied, skipping upgrade: idna<3,>=2.5 in /usr/local/lib/python3.7/dist-packages (from requests<3.0.0,>=2.13.0->spacy) (2.10)\n",
      "Requirement already satisfied, skipping upgrade: pyparsing>=2.0.2 in /usr/local/lib/python3.7/dist-packages (from packaging>=20.0->spacy) (2.4.7)\n",
      "Requirement already satisfied, skipping upgrade: smart-open<6.0.0,>=5.0.0 in /usr/local/lib/python3.7/dist-packages (from pathy>=0.3.5->spacy) (5.1.0)\n",
      "Requirement already satisfied, skipping upgrade: zipp>=0.5; python_version < \"3.8\" in /usr/local/lib/python3.7/dist-packages (from catalogue<2.1.0,>=2.0.4->spacy) (3.4.1)\n",
      "Requirement already satisfied, skipping upgrade: MarkupSafe>=0.23 in /usr/local/lib/python3.7/dist-packages (from jinja2->spacy) (2.0.1)\n",
      "Requirement already satisfied, skipping upgrade: click<7.2.0,>=7.1.1 in /usr/local/lib/python3.7/dist-packages (from typer<0.4.0,>=0.3.0->spacy) (7.1.2)\n",
      "Installing collected packages: pydantic, typer, pathy, spacy-legacy, catalogue, srsly, thinc, spacy\n",
      "  Found existing installation: catalogue 1.0.0\n",
      "    Uninstalling catalogue-1.0.0:\n",
      "      Successfully uninstalled catalogue-1.0.0\n",
      "  Found existing installation: srsly 1.0.5\n",
      "    Uninstalling srsly-1.0.5:\n",
      "      Successfully uninstalled srsly-1.0.5\n",
      "  Found existing installation: thinc 7.4.0\n",
      "    Uninstalling thinc-7.4.0:\n",
      "      Successfully uninstalled thinc-7.4.0\n",
      "  Found existing installation: spacy 2.2.4\n",
      "    Uninstalling spacy-2.2.4:\n",
      "      Successfully uninstalled spacy-2.2.4\n",
      "Successfully installed catalogue-2.0.4 pathy-0.6.0 pydantic-1.8.2 spacy-3.1.0 spacy-legacy-3.0.8 srsly-2.4.1 thinc-8.0.7 typer-0.3.2\n",
      "Collecting tensorflow-probability==0.8\n",
      "\u001b[?25l  Downloading https://files.pythonhosted.org/packages/f8/72/29ef1e5f386b65544d4e7002dfeca1e55b099ed182cd6d405c21a19ae259/tensorflow_probability-0.8.0-py2.py3-none-any.whl (2.5MB)\n",
      "\u001b[K     |████████████████████████████████| 2.5MB 4.2MB/s \n",
      "\u001b[?25hCollecting gast<0.3,>=0.2\n",
      "  Downloading https://files.pythonhosted.org/packages/4e/35/11749bf99b2d4e3cceb4d55ca22590b0d7c2c62b9de38ac4a4a7f4687421/gast-0.2.2.tar.gz\n",
      "Requirement already satisfied, skipping upgrade: six>=1.10.0 in /usr/local/lib/python3.7/dist-packages (from tensorflow-probability==0.8) (1.15.0)\n",
      "Collecting cloudpickle==1.1.1\n",
      "  Downloading https://files.pythonhosted.org/packages/24/fb/4f92f8c0f40a0d728b4f3d5ec5ff84353e705d8ff5e3e447620ea98b06bd/cloudpickle-1.1.1-py2.py3-none-any.whl\n",
      "Requirement already satisfied, skipping upgrade: decorator in /usr/local/lib/python3.7/dist-packages (from tensorflow-probability==0.8) (4.4.2)\n",
      "Requirement already satisfied, skipping upgrade: numpy>=1.13.3 in /usr/local/lib/python3.7/dist-packages (from tensorflow-probability==0.8) (1.19.5)\n",
      "Building wheels for collected packages: gast\n",
      "  Building wheel for gast (setup.py) ... \u001b[?25l\u001b[?25hdone\n",
      "  Created wheel for gast: filename=gast-0.2.2-cp37-none-any.whl size=7557 sha256=5067afbb85aedc34c7b54c77118cb3543d13406157b6295270cfea5873e36a2d\n",
      "  Stored in directory: /root/.cache/pip/wheels/5c/2e/7e/a1d4d4fcebe6c381f378ce7743a3ced3699feb89bcfbdadadd\n",
      "Successfully built gast\n",
      "\u001b[31mERROR: tensorflow 2.5.0 has requirement gast==0.4.0, but you'll have gast 0.2.2 which is incompatible.\u001b[0m\n",
      "\u001b[31mERROR: gym 0.17.3 has requirement cloudpickle<1.7.0,>=1.2.0, but you'll have cloudpickle 1.1.1 which is incompatible.\u001b[0m\n",
      "Installing collected packages: gast, cloudpickle, tensorflow-probability\n",
      "  Found existing installation: gast 0.4.0\n",
      "    Uninstalling gast-0.4.0:\n",
      "      Successfully uninstalled gast-0.4.0\n",
      "  Found existing installation: cloudpickle 1.3.0\n",
      "    Uninstalling cloudpickle-1.3.0:\n",
      "      Successfully uninstalled cloudpickle-1.3.0\n",
      "  Found existing installation: tensorflow-probability 0.13.0\n",
      "    Uninstalling tensorflow-probability-0.13.0:\n",
      "      Successfully uninstalled tensorflow-probability-0.13.0\n",
      "Successfully installed cloudpickle-1.1.1 gast-0.2.2 tensorflow-probability-0.8.0\n",
      "Collecting PyYAML\n",
      "\u001b[?25l  Downloading https://files.pythonhosted.org/packages/7a/a5/393c087efdc78091afa2af9f1378762f9821c9c1d7a22c5753fb5ac5f97a/PyYAML-5.4.1-cp37-cp37m-manylinux1_x86_64.whl (636kB)\n",
      "\u001b[K     |████████████████████████████████| 645kB 4.2MB/s \n",
      "\u001b[?25hInstalling collected packages: PyYAML\n",
      "  Found existing installation: PyYAML 3.13\n",
      "    Uninstalling PyYAML-3.13:\n",
      "      Successfully uninstalled PyYAML-3.13\n",
      "Successfully installed PyYAML-5.4.1\n",
      "Collecting scikit-learn\n",
      "\u001b[?25l  Downloading https://files.pythonhosted.org/packages/a8/eb/a48f25c967526b66d5f1fa7a984594f0bf0a5afafa94a8c4dbc317744620/scikit_learn-0.24.2-cp37-cp37m-manylinux2010_x86_64.whl (22.3MB)\n",
      "\u001b[K     |████████████████████████████████| 22.3MB 134kB/s \n",
      "\u001b[?25hRequirement already satisfied, skipping upgrade: joblib>=0.11 in /usr/local/lib/python3.7/dist-packages (from scikit-learn) (1.0.1)\n",
      "Requirement already satisfied, skipping upgrade: numpy>=1.13.3 in /usr/local/lib/python3.7/dist-packages (from scikit-learn) (1.19.5)\n",
      "Requirement already satisfied, skipping upgrade: scipy>=0.19.1 in /usr/local/lib/python3.7/dist-packages (from scikit-learn) (1.4.1)\n",
      "Collecting threadpoolctl>=2.0.0\n",
      "  Downloading https://files.pythonhosted.org/packages/c6/e8/c216b9b60cbba4642d3ca1bae7a53daa0c24426f662e0e3ce3dc7f6caeaa/threadpoolctl-2.2.0-py3-none-any.whl\n",
      "Installing collected packages: threadpoolctl, scikit-learn\n",
      "  Found existing installation: scikit-learn 0.22.2.post1\n",
      "    Uninstalling scikit-learn-0.22.2.post1:\n",
      "      Successfully uninstalled scikit-learn-0.22.2.post1\n",
      "Successfully installed scikit-learn-0.24.2 threadpoolctl-2.2.0\n",
      "Collecting cltk\n",
      "\u001b[?25l  Downloading https://files.pythonhosted.org/packages/7d/14/0e86985b7770bf1daa905a01b7ddad7730e85f4333f0e37354383ee9b07a/cltk-1.0.16-py3-none-any.whl (835kB)\n",
      "\u001b[K     |████████████████████████████████| 839kB 4.1MB/s \n",
      "\u001b[?25hCollecting tensor2tensor\n",
      "\u001b[?25l  Downloading https://files.pythonhosted.org/packages/d6/7c/9e87d30cefad5cbc390bb7f626efb3ded9b19416b8160f1a1278da81b218/tensor2tensor-1.15.7-py2.py3-none-any.whl (1.4MB)\n",
      "\u001b[K     |████████████████████████████████| 1.5MB 12.6MB/s \n",
      "\u001b[?25hCollecting transformers==3.1.0\n",
      "\u001b[?25l  Downloading https://files.pythonhosted.org/packages/ae/05/c8c55b600308dc04e95100dc8ad8a244dd800fe75dfafcf1d6348c6f6209/transformers-3.1.0-py3-none-any.whl (884kB)\n",
      "\u001b[K     |████████████████████████████████| 890kB 18.8MB/s \n",
      "\u001b[?25hCollecting gitpython<4.0,>=3.0\n",
      "\u001b[?25l  Downloading https://files.pythonhosted.org/packages/bc/91/b38c4fabb6e5092ab23492ded4f318ab7299b19263272b703478038c0fbc/GitPython-3.1.18-py3-none-any.whl (170kB)\n",
      "\u001b[K     |████████████████████████████████| 174kB 24.0MB/s \n",
      "\u001b[?25hCollecting stanza==1.1.1\n",
      "\u001b[?25l  Downloading https://files.pythonhosted.org/packages/e7/8b/3a9e7a8d8cb14ad6afffc3983b7a7322a3a24d94ebc978a70746fcffc085/stanza-1.1.1-py3-none-any.whl (227kB)\n",
      "\u001b[K     |████████████████████████████████| 235kB 23.8MB/s \n",
      "\u001b[?25hRequirement already satisfied: PyYAML<6.0.0,>=5.4.1 in /usr/local/lib/python3.7/dist-packages (from cltk) (5.4.1)\n",
      "Requirement already satisfied: scikit-learn<0.25.0,>=0.24.2 in /usr/local/lib/python3.7/dist-packages (from cltk) (0.24.2)\n",
      "Collecting spacy<3.0.0,>=2.3.5\n",
      "\u001b[?25l  Downloading https://files.pythonhosted.org/packages/44/87/c70718b897a9507cf66ec73bbf0b82e049e4e9d35eee5cc3a49bc32a7a90/spacy-2.3.7-cp37-cp37m-manylinux_2_17_x86_64.manylinux2014_x86_64.whl (10.4MB)\n",
      "\u001b[K     |████████████████████████████████| 10.4MB 25.5MB/s \n",
      "\u001b[?25hCollecting stringcase<2.0,>=1.2\n",
      "  Downloading https://files.pythonhosted.org/packages/f3/1f/1241aa3d66e8dc1612427b17885f5fcd9c9ee3079fc0d28e9a3aeeb36fa3/stringcase-1.2.0.tar.gz\n",
      "Requirement already satisfied: tqdm<5.0.0,>=4.41.1 in /usr/local/lib/python3.7/dist-packages (from cltk) (4.41.1)\n",
      "Collecting greek-accentuation<2.0.0,>=1.2.0\n",
      "  Downloading https://files.pythonhosted.org/packages/be/91/cb02996626f43c2adbd2a6e964ddf3b5893a8ee5c2134a5dac66dd70306e/greek_accentuation-1.2.0-py2.py3-none-any.whl\n",
      "Requirement already satisfied: requests<3.0.0,>=2.22.0 in /usr/local/lib/python3.7/dist-packages (from cltk) (2.23.0)\n",
      "Collecting fasttext<0.10.0,>=0.9.1\n",
      "\u001b[?25l  Downloading https://files.pythonhosted.org/packages/f8/85/e2b368ab6d3528827b147fdb814f8189acc981a4bc2f99ab894650e05c40/fasttext-0.9.2.tar.gz (68kB)\n",
      "\u001b[K     |████████████████████████████████| 71kB 6.3MB/s \n",
      "\u001b[?25hCollecting python-Levenshtein<0.13.0,>=0.12.0\n",
      "\u001b[?25l  Downloading https://files.pythonhosted.org/packages/2a/dc/97f2b63ef0fa1fd78dcb7195aca577804f6b2b51e712516cc0e902a9a201/python-Levenshtein-0.12.2.tar.gz (50kB)\n",
      "\u001b[K     |████████████████████████████████| 51kB 6.7MB/s \n",
      "\u001b[?25hCollecting boltons<21.0.0,>=20.0.0\n",
      "\u001b[?25l  Downloading https://files.pythonhosted.org/packages/71/e1/e7979a4a6d4b296b5935e926549fff540f7670ddaf09bbf137e2b022c039/boltons-20.2.1-py2.py3-none-any.whl (170kB)\n",
      "\u001b[K     |████████████████████████████████| 174kB 39.0MB/s \n",
      "\u001b[?25hCollecting gensim<4.0.0,>=3.8.1\n",
      "\u001b[?25l  Downloading https://files.pythonhosted.org/packages/5c/4e/afe2315e08a38967f8a3036bbe7e38b428e9b7a90e823a83d0d49df1adf5/gensim-3.8.3-cp37-cp37m-manylinux1_x86_64.whl (24.2MB)\n",
      "\u001b[K     |████████████████████████████████| 24.2MB 124kB/s \n",
      "\u001b[?25hCollecting nltk<4.0,>=3.5\n",
      "\u001b[?25l  Downloading https://files.pythonhosted.org/packages/5e/37/9532ddd4b1bbb619333d5708aaad9bf1742f051a664c3c6fa6632a105fd8/nltk-3.6.2-py3-none-any.whl (1.5MB)\n",
      "\u001b[K     |████████████████████████████████| 1.5MB 36.3MB/s \n",
      "\u001b[?25hRequirement already satisfied: sympy in /usr/local/lib/python3.7/dist-packages (from tensor2tensor) (1.7.1)\n",
      "Collecting bz2file\n",
      "  Downloading https://files.pythonhosted.org/packages/61/39/122222b5e85cd41c391b68a99ee296584b2a2d1d233e7ee32b4532384f2d/bz2file-0.98.tar.gz\n",
      "Collecting kfac\n",
      "\u001b[?25l  Downloading https://files.pythonhosted.org/packages/1c/36/06fe2c757044bb51906fef231ac48cc5bf9a277fc9a8c7e1108d7e9e8cfd/kfac-0.2.3-py2.py3-none-any.whl (191kB)\n",
      "\u001b[K     |████████████████████████████████| 194kB 31.4MB/s \n",
      "\u001b[?25hCollecting tensorflow-addons\n",
      "\u001b[?25l  Downloading https://files.pythonhosted.org/packages/66/4b/e893d194e626c24b3df2253066aa418f46a432fdb68250cde14bf9bb0700/tensorflow_addons-0.13.0-cp37-cp37m-manylinux2010_x86_64.whl (679kB)\n",
      "\u001b[K     |████████████████████████████████| 686kB 33.8MB/s \n",
      "\u001b[?25hCollecting pypng\n",
      "\u001b[?25l  Downloading https://files.pythonhosted.org/packages/bc/fb/f719f1ac965e2101aa6ea6f54ef8b40f8fbb033f6ad07c017663467f5147/pypng-0.0.20.tar.gz (649kB)\n",
      "\u001b[K     |████████████████████████████████| 655kB 29.1MB/s \n",
      "\u001b[?25hCollecting gunicorn\n",
      "\u001b[?25l  Downloading https://files.pythonhosted.org/packages/e4/dd/5b190393e6066286773a67dfcc2f9492058e9b57c4867a95f1ba5caf0a83/gunicorn-20.1.0-py3-none-any.whl (79kB)\n",
      "\u001b[K     |████████████████████████████████| 81kB 8.5MB/s \n",
      "\u001b[?25hCollecting gevent\n",
      "\u001b[?25l  Downloading https://files.pythonhosted.org/packages/3e/85/df3d1fd2b60a87455475f93012861b76a411d27ba4a0859939adbe2c9dc3/gevent-21.1.2-cp37-cp37m-manylinux2010_x86_64.whl (5.6MB)\n",
      "\u001b[K     |████████████████████████████████| 5.6MB 18.4MB/s \n",
      "\u001b[?25hCollecting tensorflow-probability==0.7.0\n",
      "\u001b[?25l  Downloading https://files.pythonhosted.org/packages/3e/3a/c10b6c22320531c774402ac7186d1b673374e2a9d12502cbc8d811e4601c/tensorflow_probability-0.7.0-py2.py3-none-any.whl (981kB)\n",
      "\u001b[K     |████████████████████████████████| 983kB 32.4MB/s \n",
      "\u001b[?25hRequirement already satisfied: h5py in /usr/local/lib/python3.7/dist-packages (from tensor2tensor) (3.1.0)\n",
      "Requirement already satisfied: future in /usr/local/lib/python3.7/dist-packages (from tensor2tensor) (0.16.0)\n",
      "Requirement already satisfied: google-api-python-client in /usr/local/lib/python3.7/dist-packages (from tensor2tensor) (1.12.8)\n",
      "Requirement already satisfied: six>=1.12.0 in /usr/local/lib/python3.7/dist-packages (from tensor2tensor) (1.15.0)\n",
      "Requirement already satisfied: Pillow in /usr/local/lib/python3.7/dist-packages (from tensor2tensor) (7.1.2)\n",
      "Requirement already satisfied: opencv-python in /usr/local/lib/python3.7/dist-packages (from tensor2tensor) (4.1.2.30)\n",
      "Collecting mesh-tensorflow\n",
      "\u001b[?25l  Downloading https://files.pythonhosted.org/packages/ce/10/37df0bc87ebf84e1414613176340e3aadc3697d2bd112bf63d3d4b1e848a/mesh_tensorflow-0.1.19-py3-none-any.whl (366kB)\n",
      "\u001b[K     |████████████████████████████████| 368kB 35.7MB/s \n",
      "\u001b[?25hRequirement already satisfied: flask in /usr/local/lib/python3.7/dist-packages (from tensor2tensor) (1.1.4)\n",
      "Collecting tf-slim\n",
      "\u001b[?25l  Downloading https://files.pythonhosted.org/packages/02/97/b0f4a64df018ca018cc035d44f2ef08f91e2e8aa67271f6f19633a015ff7/tf_slim-1.1.0-py2.py3-none-any.whl (352kB)\n",
      "\u001b[K     |████████████████████████████████| 358kB 32.0MB/s \n",
      "\u001b[?25hCollecting tensorflow-gan\n",
      "\u001b[?25l  Downloading https://files.pythonhosted.org/packages/0c/2e/62922111d7d50e1900e3030764743ea7735540ce103b3ab30fd5cd2d8a2b/tensorflow_gan-2.0.0-py2.py3-none-any.whl (365kB)\n",
      "\u001b[K     |████████████████████████████████| 368kB 35.0MB/s \n",
      "\u001b[?25hRequirement already satisfied: gin-config in /usr/local/lib/python3.7/dist-packages (from tensor2tensor) (0.4.0)\n",
      "Requirement already satisfied: dopamine-rl in /usr/local/lib/python3.7/dist-packages (from tensor2tensor) (1.0.5)\n",
      "Requirement already satisfied: numpy in /usr/local/lib/python3.7/dist-packages (from tensor2tensor) (1.19.5)\n",
      "Requirement already satisfied: absl-py in /usr/local/lib/python3.7/dist-packages (from tensor2tensor) (0.12.0)\n",
      "Requirement already satisfied: scipy in /usr/local/lib/python3.7/dist-packages (from tensor2tensor) (1.4.1)\n",
      "Requirement already satisfied: tensorflow-datasets in /usr/local/lib/python3.7/dist-packages (from tensor2tensor) (4.0.1)\n",
      "Requirement already satisfied: oauth2client in /usr/local/lib/python3.7/dist-packages (from tensor2tensor) (4.1.3)\n",
      "Requirement already satisfied: gym in /usr/local/lib/python3.7/dist-packages (from tensor2tensor) (0.17.3)\n",
      "Requirement already satisfied: regex!=2019.12.17 in /usr/local/lib/python3.7/dist-packages (from transformers==3.1.0) (2019.12.20)\n",
      "Collecting tokenizers==0.8.1.rc2\n",
      "\u001b[?25l  Downloading https://files.pythonhosted.org/packages/75/26/c02ba92ecb8b780bdae4a862d351433c2912fe49469dac7f87a5c85ccca6/tokenizers-0.8.1rc2-cp37-cp37m-manylinux1_x86_64.whl (3.0MB)\n",
      "\u001b[K     |████████████████████████████████| 3.0MB 29.5MB/s \n",
      "\u001b[?25hRequirement already satisfied: packaging in /usr/local/lib/python3.7/dist-packages (from transformers==3.1.0) (20.9)\n",
      "Requirement already satisfied: filelock in /usr/local/lib/python3.7/dist-packages (from transformers==3.1.0) (3.0.12)\n",
      "Collecting sacremoses\n",
      "\u001b[?25l  Downloading https://files.pythonhosted.org/packages/75/ee/67241dc87f266093c533a2d4d3d69438e57d7a90abb216fa076e7d475d4a/sacremoses-0.0.45-py3-none-any.whl (895kB)\n",
      "\u001b[K     |████████████████████████████████| 901kB 31.3MB/s \n",
      "\u001b[?25hCollecting sentencepiece!=0.1.92\n",
      "\u001b[?25l  Downloading https://files.pythonhosted.org/packages/ac/aa/1437691b0c7c83086ebb79ce2da16e00bef024f24fec2a5161c35476f499/sentencepiece-0.1.96-cp37-cp37m-manylinux_2_17_x86_64.manylinux2014_x86_64.whl (1.2MB)\n",
      "\u001b[K     |████████████████████████████████| 1.2MB 30.2MB/s \n",
      "\u001b[?25hCollecting gitdb<5,>=4.0.1\n",
      "\u001b[?25l  Downloading https://files.pythonhosted.org/packages/ea/e8/f414d1a4f0bbc668ed441f74f44c116d9816833a48bf81d22b697090dba8/gitdb-4.0.7-py3-none-any.whl (63kB)\n",
      "\u001b[K     |████████████████████████████████| 71kB 6.6MB/s \n",
      "\u001b[?25hRequirement already satisfied: typing-extensions>=3.7.4.0; python_version < \"3.8\" in /usr/local/lib/python3.7/dist-packages (from gitpython<4.0,>=3.0->cltk) (3.7.4.3)\n",
      "Requirement already satisfied: protobuf in /usr/local/lib/python3.7/dist-packages (from stanza==1.1.1->cltk) (3.17.3)\n",
      "Requirement already satisfied: torch>=1.3.0 in /usr/local/lib/python3.7/dist-packages (from stanza==1.1.1->cltk) (1.9.0+cu102)\n",
      "Requirement already satisfied: threadpoolctl>=2.0.0 in /usr/local/lib/python3.7/dist-packages (from scikit-learn<0.25.0,>=0.24.2->cltk) (2.2.0)\n",
      "Requirement already satisfied: joblib>=0.11 in /usr/local/lib/python3.7/dist-packages (from scikit-learn<0.25.0,>=0.24.2->cltk) (1.0.1)\n",
      "Collecting srsly<1.1.0,>=1.0.2\n",
      "\u001b[?25l  Downloading https://files.pythonhosted.org/packages/cc/48/44bd8693a7a705976884cabd52a516fe5cbcecf5f45be732f8f04ad2605b/srsly-1.0.5-cp37-cp37m-manylinux2014_x86_64.whl (184kB)\n",
      "\u001b[K     |████████████████████████████████| 184kB 40.8MB/s \n",
      "\u001b[?25hRequirement already satisfied: setuptools in /usr/local/lib/python3.7/dist-packages (from spacy<3.0.0,>=2.3.5->cltk) (57.0.0)\n",
      "Requirement already satisfied: preshed<3.1.0,>=3.0.2 in /usr/local/lib/python3.7/dist-packages (from spacy<3.0.0,>=2.3.5->cltk) (3.0.5)\n",
      "Collecting thinc<7.5.0,>=7.4.1\n",
      "\u001b[?25l  Downloading https://files.pythonhosted.org/packages/9a/92/71ab278f865f7565c37ed6917d0f23342e4f9a0633013113bd435cf0a691/thinc-7.4.5-cp37-cp37m-manylinux2014_x86_64.whl (1.0MB)\n",
      "\u001b[K     |████████████████████████████████| 1.1MB 29.3MB/s \n",
      "\u001b[?25hRequirement already satisfied: blis<0.8.0,>=0.4.0 in /usr/local/lib/python3.7/dist-packages (from spacy<3.0.0,>=2.3.5->cltk) (0.4.1)\n",
      "Requirement already satisfied: wasabi<1.1.0,>=0.4.0 in /usr/local/lib/python3.7/dist-packages (from spacy<3.0.0,>=2.3.5->cltk) (0.8.2)\n",
      "Requirement already satisfied: cymem<2.1.0,>=2.0.2 in /usr/local/lib/python3.7/dist-packages (from spacy<3.0.0,>=2.3.5->cltk) (2.0.5)\n",
      "Requirement already satisfied: murmurhash<1.1.0,>=0.28.0 in /usr/local/lib/python3.7/dist-packages (from spacy<3.0.0,>=2.3.5->cltk) (1.0.5)\n",
      "Requirement already satisfied: plac<1.2.0,>=0.9.6 in /usr/local/lib/python3.7/dist-packages (from spacy<3.0.0,>=2.3.5->cltk) (1.1.3)\n",
      "Collecting catalogue<1.1.0,>=0.0.7\n",
      "  Downloading https://files.pythonhosted.org/packages/6c/f9/9a5658e2f56932e41eb264941f9a2cb7f3ce41a80cb36b2af6ab78e2f8af/catalogue-1.0.0-py2.py3-none-any.whl\n",
      "Requirement already satisfied: idna<3,>=2.5 in /usr/local/lib/python3.7/dist-packages (from requests<3.0.0,>=2.22.0->cltk) (2.10)\n",
      "Requirement already satisfied: certifi>=2017.4.17 in /usr/local/lib/python3.7/dist-packages (from requests<3.0.0,>=2.22.0->cltk) (2021.5.30)\n",
      "Requirement already satisfied: chardet<4,>=3.0.2 in /usr/local/lib/python3.7/dist-packages (from requests<3.0.0,>=2.22.0->cltk) (3.0.4)\n",
      "Requirement already satisfied: urllib3!=1.25.0,!=1.25.1,<1.26,>=1.21.1 in /usr/local/lib/python3.7/dist-packages (from requests<3.0.0,>=2.22.0->cltk) (1.24.3)\n",
      "Requirement already satisfied: pybind11>=2.2 in /usr/local/lib/python3.7/dist-packages (from fasttext<0.10.0,>=0.9.1->cltk) (2.6.2)\n",
      "Requirement already satisfied: smart-open>=1.8.1 in /usr/local/lib/python3.7/dist-packages (from gensim<4.0.0,>=3.8.1->cltk) (5.1.0)\n",
      "Requirement already satisfied: click in /usr/local/lib/python3.7/dist-packages (from nltk<4.0,>=3.5->cltk) (7.1.2)\n",
      "Requirement already satisfied: mpmath>=0.19 in /usr/local/lib/python3.7/dist-packages (from sympy->tensor2tensor) (1.2.1)\n",
      "Requirement already satisfied: typeguard>=2.7 in /usr/local/lib/python3.7/dist-packages (from tensorflow-addons->tensor2tensor) (2.7.1)\n",
      "Collecting zope.event\n",
      "  Downloading https://files.pythonhosted.org/packages/9e/85/b45408c64f3b888976f1d5b37eed8d746b8d5729a66a49ec846fda27d371/zope.event-4.5.0-py2.py3-none-any.whl\n",
      "Collecting zope.interface\n",
      "\u001b[?25l  Downloading https://files.pythonhosted.org/packages/bb/a7/94e1a92c71436f934cdd2102826fa041c83dcb7d21dd0f1fb1a57f6e0620/zope.interface-5.4.0-cp37-cp37m-manylinux2010_x86_64.whl (251kB)\n",
      "\u001b[K     |████████████████████████████████| 256kB 39.1MB/s \n",
      "\u001b[?25hRequirement already satisfied: greenlet<2.0,>=0.4.17; platform_python_implementation == \"CPython\" in /usr/local/lib/python3.7/dist-packages (from gevent->tensor2tensor) (1.1.0)\n",
      "Requirement already satisfied: cloudpickle>=0.6.1 in /usr/local/lib/python3.7/dist-packages (from tensorflow-probability==0.7.0->tensor2tensor) (1.1.1)\n",
      "Requirement already satisfied: decorator in /usr/local/lib/python3.7/dist-packages (from tensorflow-probability==0.7.0->tensor2tensor) (4.4.2)\n",
      "Requirement already satisfied: cached-property; python_version < \"3.8\" in /usr/local/lib/python3.7/dist-packages (from h5py->tensor2tensor) (1.5.2)\n",
      "Requirement already satisfied: google-auth>=1.16.0 in /usr/local/lib/python3.7/dist-packages (from google-api-python-client->tensor2tensor) (1.32.1)\n",
      "Requirement already satisfied: google-api-core<2dev,>=1.21.0 in /usr/local/lib/python3.7/dist-packages (from google-api-python-client->tensor2tensor) (1.26.3)\n",
      "Requirement already satisfied: httplib2<1dev,>=0.15.0 in /usr/local/lib/python3.7/dist-packages (from google-api-python-client->tensor2tensor) (0.17.4)\n",
      "Requirement already satisfied: google-auth-httplib2>=0.0.3 in /usr/local/lib/python3.7/dist-packages (from google-api-python-client->tensor2tensor) (0.0.4)\n",
      "Requirement already satisfied: uritemplate<4dev,>=3.0.0 in /usr/local/lib/python3.7/dist-packages (from google-api-python-client->tensor2tensor) (3.0.1)\n",
      "Requirement already satisfied: Werkzeug<2.0,>=0.15 in /usr/local/lib/python3.7/dist-packages (from flask->tensor2tensor) (1.0.1)\n",
      "Requirement already satisfied: Jinja2<3.0,>=2.10.1 in /usr/local/lib/python3.7/dist-packages (from flask->tensor2tensor) (2.11.3)\n",
      "Requirement already satisfied: itsdangerous<2.0,>=0.24 in /usr/local/lib/python3.7/dist-packages (from flask->tensor2tensor) (1.1.0)\n",
      "Requirement already satisfied: tensorflow-hub>=0.2 in /usr/local/lib/python3.7/dist-packages (from tensorflow-gan->tensor2tensor) (0.12.0)\n",
      "Requirement already satisfied: dill in /usr/local/lib/python3.7/dist-packages (from tensorflow-datasets->tensor2tensor) (0.3.4)\n",
      "Requirement already satisfied: dm-tree in /usr/local/lib/python3.7/dist-packages (from tensorflow-datasets->tensor2tensor) (0.1.6)\n",
      "Requirement already satisfied: attrs>=18.1.0 in /usr/local/lib/python3.7/dist-packages (from tensorflow-datasets->tensor2tensor) (21.2.0)\n",
      "Requirement already satisfied: termcolor in /usr/local/lib/python3.7/dist-packages (from tensorflow-datasets->tensor2tensor) (1.1.0)\n",
      "Requirement already satisfied: tensorflow-metadata in /usr/local/lib/python3.7/dist-packages (from tensorflow-datasets->tensor2tensor) (1.1.0)\n",
      "Requirement already satisfied: promise in /usr/local/lib/python3.7/dist-packages (from tensorflow-datasets->tensor2tensor) (2.3)\n",
      "Requirement already satisfied: importlib-resources; python_version < \"3.9\" in /usr/local/lib/python3.7/dist-packages (from tensorflow-datasets->tensor2tensor) (5.2.0)\n",
      "Requirement already satisfied: rsa>=3.1.4 in /usr/local/lib/python3.7/dist-packages (from oauth2client->tensor2tensor) (4.7.2)\n",
      "Requirement already satisfied: pyasn1>=0.1.7 in /usr/local/lib/python3.7/dist-packages (from oauth2client->tensor2tensor) (0.4.8)\n",
      "Requirement already satisfied: pyasn1-modules>=0.0.5 in /usr/local/lib/python3.7/dist-packages (from oauth2client->tensor2tensor) (0.2.8)\n",
      "Requirement already satisfied: pyglet<=1.5.0,>=1.4.0 in /usr/local/lib/python3.7/dist-packages (from gym->tensor2tensor) (1.5.0)\n",
      "Requirement already satisfied: pyparsing>=2.0.2 in /usr/local/lib/python3.7/dist-packages (from packaging->transformers==3.1.0) (2.4.7)\n",
      "Collecting smmap<5,>=3.0.1\n",
      "  Downloading https://files.pythonhosted.org/packages/68/ee/d540eb5e5996eb81c26ceffac6ee49041d473bc5125f2aa995cf51ec1cf1/smmap-4.0.0-py2.py3-none-any.whl\n",
      "Requirement already satisfied: importlib-metadata>=0.20; python_version < \"3.8\" in /usr/local/lib/python3.7/dist-packages (from catalogue<1.1.0,>=0.0.7->spacy<3.0.0,>=2.3.5->cltk) (4.6.0)\n",
      "Requirement already satisfied: cachetools<5.0,>=2.0.0 in /usr/local/lib/python3.7/dist-packages (from google-auth>=1.16.0->google-api-python-client->tensor2tensor) (4.2.2)\n",
      "Requirement already satisfied: googleapis-common-protos<2.0dev,>=1.6.0 in /usr/local/lib/python3.7/dist-packages (from google-api-core<2dev,>=1.21.0->google-api-python-client->tensor2tensor) (1.53.0)\n",
      "Requirement already satisfied: pytz in /usr/local/lib/python3.7/dist-packages (from google-api-core<2dev,>=1.21.0->google-api-python-client->tensor2tensor) (2018.9)\n",
      "Requirement already satisfied: MarkupSafe>=0.23 in /usr/local/lib/python3.7/dist-packages (from Jinja2<3.0,>=2.10.1->flask->tensor2tensor) (2.0.1)\n",
      "Requirement already satisfied: zipp>=3.1.0; python_version < \"3.10\" in /usr/local/lib/python3.7/dist-packages (from importlib-resources; python_version < \"3.9\"->tensorflow-datasets->tensor2tensor) (3.4.1)\n",
      "Building wheels for collected packages: stringcase, fasttext, python-Levenshtein, bz2file, pypng\n",
      "  Building wheel for stringcase (setup.py) ... \u001b[?25l\u001b[?25hdone\n",
      "  Created wheel for stringcase: filename=stringcase-1.2.0-cp37-none-any.whl size=3588 sha256=5b5b3ee9216ddc808813de92978912d9922bcdc07349c45e7cba1479710263fe\n",
      "  Stored in directory: /root/.cache/pip/wheels/a0/16/a0/16e2c81dbd47503b5a35583dfabde5a93b4cf98dbf0033dad5\n",
      "  Building wheel for fasttext (setup.py) ... \u001b[?25l\u001b[?25hdone\n",
      "  Created wheel for fasttext: filename=fasttext-0.9.2-cp37-cp37m-linux_x86_64.whl size=3093893 sha256=1fe3427c9481a3c6fe3fa01e7503c367bed19e2001bd677874937ff51dcf5164\n",
      "  Stored in directory: /root/.cache/pip/wheels/98/ba/7f/b154944a1cf5a8cee91c154b75231136cc3a3321ab0e30f592\n",
      "  Building wheel for python-Levenshtein (setup.py) ... \u001b[?25l\u001b[?25hdone\n",
      "  Created wheel for python-Levenshtein: filename=python_Levenshtein-0.12.2-cp37-cp37m-linux_x86_64.whl size=149814 sha256=54bf26dcc17113db56a034f9ed585102ab935ead6645af3bf494ec4c23175999\n",
      "  Stored in directory: /root/.cache/pip/wheels/b3/26/73/4b48503bac73f01cf18e52cd250947049a7f339e940c5df8fc\n",
      "  Building wheel for bz2file (setup.py) ... \u001b[?25l\u001b[?25hdone\n",
      "  Created wheel for bz2file: filename=bz2file-0.98-cp37-none-any.whl size=6884 sha256=89e59bb91315fd9a2316c2d17d08f7c1d795a2cbba89f132fbbaeed2f49549e8\n",
      "  Stored in directory: /root/.cache/pip/wheels/81/75/d6/e1317bf09bf1af5a30befc2a007869fa6e1f516b8f7c591cb9\n",
      "  Building wheel for pypng (setup.py) ... \u001b[?25l\u001b[?25hdone\n",
      "  Created wheel for pypng: filename=pypng-0.0.20-cp37-none-any.whl size=67179 sha256=3bd256b4c4b65c882e99df8f42dc3bbba30a8c1e03facf1f50d6d49a72583880\n",
      "  Stored in directory: /root/.cache/pip/wheels/41/6b/ef/0493b536b6d4722c2ae9486691b1d49b922b9877922beeabb3\n",
      "Successfully built stringcase fasttext python-Levenshtein bz2file pypng\n",
      "\u001b[31mERROR: kfac 0.2.3 has requirement tensorflow-probability==0.8, but you'll have tensorflow-probability 0.7.0 which is incompatible.\u001b[0m\n",
      "Installing collected packages: smmap, gitdb, gitpython, stanza, srsly, catalogue, thinc, spacy, stringcase, greek-accentuation, fasttext, python-Levenshtein, boltons, gensim, nltk, cltk, bz2file, tensorflow-probability, kfac, tensorflow-addons, pypng, gunicorn, zope.event, zope.interface, gevent, mesh-tensorflow, tf-slim, tensorflow-gan, tensor2tensor, tokenizers, sacremoses, sentencepiece, transformers\n",
      "  Found existing installation: srsly 2.4.1\n",
      "    Uninstalling srsly-2.4.1:\n",
      "      Successfully uninstalled srsly-2.4.1\n",
      "  Found existing installation: catalogue 2.0.4\n",
      "    Uninstalling catalogue-2.0.4:\n",
      "      Successfully uninstalled catalogue-2.0.4\n",
      "  Found existing installation: thinc 8.0.7\n",
      "    Uninstalling thinc-8.0.7:\n",
      "      Successfully uninstalled thinc-8.0.7\n",
      "  Found existing installation: spacy 3.1.0\n",
      "    Uninstalling spacy-3.1.0:\n",
      "      Successfully uninstalled spacy-3.1.0\n",
      "  Found existing installation: gensim 3.6.0\n",
      "    Uninstalling gensim-3.6.0:\n",
      "      Successfully uninstalled gensim-3.6.0\n",
      "  Found existing installation: nltk 3.2.5\n",
      "    Uninstalling nltk-3.2.5:\n",
      "      Successfully uninstalled nltk-3.2.5\n",
      "  Found existing installation: tensorflow-probability 0.8.0\n",
      "    Uninstalling tensorflow-probability-0.8.0:\n",
      "      Successfully uninstalled tensorflow-probability-0.8.0\n",
      "Successfully installed boltons-20.2.1 bz2file-0.98 catalogue-1.0.0 cltk-1.0.16 fasttext-0.9.2 gensim-3.8.3 gevent-21.1.2 gitdb-4.0.7 gitpython-3.1.18 greek-accentuation-1.2.0 gunicorn-20.1.0 kfac-0.2.3 mesh-tensorflow-0.1.19 nltk-3.6.2 pypng-0.0.20 python-Levenshtein-0.12.2 sacremoses-0.0.45 sentencepiece-0.1.96 smmap-4.0.0 spacy-2.3.7 srsly-1.0.5 stanza-1.1.1 stringcase-1.2.0 tensor2tensor-1.15.7 tensorflow-addons-0.13.0 tensorflow-gan-2.0.0 tensorflow-probability-0.7.0 tf-slim-1.1.0 thinc-7.4.5 tokenizers-0.8.1rc2 transformers-3.1.0 zope.event-4.5.0 zope.interface-5.4.0\n",
      "Collecting umap-learn\n",
      "\u001b[?25l  Downloading https://files.pythonhosted.org/packages/75/69/85e7f950bb75792ad5d666d86c5f3e62eedbb942848e7e3126513af9999c/umap-learn-0.5.1.tar.gz (80kB)\n",
      "\u001b[K     |████████████████████████████████| 81kB 3.6MB/s \n",
      "\u001b[?25hRequirement already satisfied: numpy>=1.17 in /usr/local/lib/python3.7/dist-packages (from umap-learn) (1.19.5)\n",
      "Requirement already satisfied: scikit-learn>=0.22 in /usr/local/lib/python3.7/dist-packages (from umap-learn) (0.24.2)\n",
      "Requirement already satisfied: scipy>=1.0 in /usr/local/lib/python3.7/dist-packages (from umap-learn) (1.4.1)\n",
      "Requirement already satisfied: numba>=0.49 in /usr/local/lib/python3.7/dist-packages (from umap-learn) (0.51.2)\n",
      "Collecting pynndescent>=0.5\n",
      "\u001b[?25l  Downloading https://files.pythonhosted.org/packages/b1/8d/44bf1c9e69dd9bf0697a3b9375b0729942525c0eee7b7859f563439d676a/pynndescent-0.5.4.tar.gz (1.1MB)\n",
      "\u001b[K     |████████████████████████████████| 1.1MB 25.5MB/s \n",
      "\u001b[?25hRequirement already satisfied: threadpoolctl>=2.0.0 in /usr/local/lib/python3.7/dist-packages (from scikit-learn>=0.22->umap-learn) (2.2.0)\n",
      "Requirement already satisfied: joblib>=0.11 in /usr/local/lib/python3.7/dist-packages (from scikit-learn>=0.22->umap-learn) (1.0.1)\n",
      "Requirement already satisfied: llvmlite<0.35,>=0.34.0.dev0 in /usr/local/lib/python3.7/dist-packages (from numba>=0.49->umap-learn) (0.34.0)\n",
      "Requirement already satisfied: setuptools in /usr/local/lib/python3.7/dist-packages (from numba>=0.49->umap-learn) (57.0.0)\n",
      "Building wheels for collected packages: umap-learn, pynndescent\n",
      "  Building wheel for umap-learn (setup.py) ... \u001b[?25l\u001b[?25hdone\n",
      "  Created wheel for umap-learn: filename=umap_learn-0.5.1-cp37-none-any.whl size=76569 sha256=15744ef02e6a2e608d535c393ee8ad399868690b5890fc493ae2216569e42078\n",
      "  Stored in directory: /root/.cache/pip/wheels/ad/df/d5/a3691296ff779f25cd1cf415a3af954b987fb53111e3392cf4\n",
      "  Building wheel for pynndescent (setup.py) ... \u001b[?25l\u001b[?25hdone\n",
      "  Created wheel for pynndescent: filename=pynndescent-0.5.4-cp37-none-any.whl size=52374 sha256=85f6c3ca1484d1bf2f1469d0897da80ebffd4692753b85d151ce0806e95ff092\n",
      "  Stored in directory: /root/.cache/pip/wheels/42/4b/8c/f6f119c67cf6583bb192431fa8f7278cf95e5b943055077d94\n",
      "Successfully built umap-learn pynndescent\n",
      "Installing collected packages: pynndescent, umap-learn\n",
      "Successfully installed pynndescent-0.5.4 umap-learn-0.5.1\n"
     ]
    }
   ],
   "source": [
    "!pip install --upgrade spacy\n",
    "!pip install --upgrade tensorflow-probability==0.8\n",
    "!pip install --upgrade PyYAML\n",
    "!pip install --upgrade scikit-learn\n",
    "!pip install  cltk tensor2tensor transformers==3.1.0 \n",
    "!pip install umap-learn"
   ]
  },
  {
   "cell_type": "code",
   "execution_count": null,
   "id": "2ac73ebb",
   "metadata": {
    "colab": {
     "base_uri": "https://localhost:8080/",
     "height": 374
    },
    "id": "2ac73ebb",
    "outputId": "bd331eb9-c111-464e-873c-6430f4bd3733"
   },
   "outputs": [
    {
     "ename": "ContextualVersionConflict",
     "evalue": "ignored",
     "output_type": "error",
     "traceback": [
      "\u001b[0;31m---------------------------------------------------------------------------\u001b[0m",
      "\u001b[0;31mContextualVersionConflict\u001b[0m                 Traceback (most recent call last)",
      "\u001b[0;32m<ipython-input-10-abac2588ad49>\u001b[0m in \u001b[0;36m<module>\u001b[0;34m()\u001b[0m\n\u001b[1;32m      1\u001b[0m \u001b[0;32mimport\u001b[0m \u001b[0msys\u001b[0m\u001b[0;34m\u001b[0m\u001b[0;34m\u001b[0m\u001b[0m\n\u001b[1;32m      2\u001b[0m \u001b[0;32mimport\u001b[0m \u001b[0mos\u001b[0m\u001b[0;34m\u001b[0m\u001b[0;34m\u001b[0m\u001b[0m\n\u001b[0;32m----> 3\u001b[0;31m \u001b[0;32mfrom\u001b[0m \u001b[0mcltk\u001b[0m\u001b[0;34m.\u001b[0m\u001b[0msentence\u001b[0m\u001b[0;34m.\u001b[0m\u001b[0mlat\u001b[0m \u001b[0;32mimport\u001b[0m \u001b[0mLatinPunktSentenceTokenizer\u001b[0m\u001b[0;34m\u001b[0m\u001b[0;34m\u001b[0m\u001b[0m\n\u001b[0m\u001b[1;32m      4\u001b[0m \u001b[0;32mimport\u001b[0m \u001b[0mmatplotlib\u001b[0m\u001b[0;34m.\u001b[0m\u001b[0mpyplot\u001b[0m \u001b[0;32mas\u001b[0m \u001b[0mplt\u001b[0m\u001b[0;34m\u001b[0m\u001b[0;34m\u001b[0m\u001b[0m\n\u001b[1;32m      5\u001b[0m \u001b[0;32mimport\u001b[0m \u001b[0mumap\u001b[0m\u001b[0;34m\u001b[0m\u001b[0;34m\u001b[0m\u001b[0m\n",
      "\u001b[0;32m/usr/local/lib/python3.7/dist-packages/cltk/__init__.py\u001b[0m in \u001b[0;36m<module>\u001b[0;34m()\u001b[0m\n\u001b[1;32m      6\u001b[0m \u001b[0;34m\u001b[0m\u001b[0m\n\u001b[1;32m      7\u001b[0m __version__ = curr_version = pkg_resources.get_distribution(\n\u001b[0;32m----> 8\u001b[0;31m     \u001b[0;34m\"cltk\"\u001b[0m\u001b[0;34m\u001b[0m\u001b[0;34m\u001b[0m\u001b[0m\n\u001b[0m\u001b[1;32m      9\u001b[0m )  # type: pkg_resources.EggInfoDistribution\n",
      "\u001b[0;32m/usr/local/lib/python3.7/dist-packages/pkg_resources/__init__.py\u001b[0m in \u001b[0;36mget_distribution\u001b[0;34m(dist)\u001b[0m\n\u001b[1;32m    464\u001b[0m         \u001b[0mdist\u001b[0m \u001b[0;34m=\u001b[0m \u001b[0mRequirement\u001b[0m\u001b[0;34m.\u001b[0m\u001b[0mparse\u001b[0m\u001b[0;34m(\u001b[0m\u001b[0mdist\u001b[0m\u001b[0;34m)\u001b[0m\u001b[0;34m\u001b[0m\u001b[0;34m\u001b[0m\u001b[0m\n\u001b[1;32m    465\u001b[0m     \u001b[0;32mif\u001b[0m \u001b[0misinstance\u001b[0m\u001b[0;34m(\u001b[0m\u001b[0mdist\u001b[0m\u001b[0;34m,\u001b[0m \u001b[0mRequirement\u001b[0m\u001b[0;34m)\u001b[0m\u001b[0;34m:\u001b[0m\u001b[0;34m\u001b[0m\u001b[0;34m\u001b[0m\u001b[0m\n\u001b[0;32m--> 466\u001b[0;31m         \u001b[0mdist\u001b[0m \u001b[0;34m=\u001b[0m \u001b[0mget_provider\u001b[0m\u001b[0;34m(\u001b[0m\u001b[0mdist\u001b[0m\u001b[0;34m)\u001b[0m\u001b[0;34m\u001b[0m\u001b[0;34m\u001b[0m\u001b[0m\n\u001b[0m\u001b[1;32m    467\u001b[0m     \u001b[0;32mif\u001b[0m \u001b[0;32mnot\u001b[0m \u001b[0misinstance\u001b[0m\u001b[0;34m(\u001b[0m\u001b[0mdist\u001b[0m\u001b[0;34m,\u001b[0m \u001b[0mDistribution\u001b[0m\u001b[0;34m)\u001b[0m\u001b[0;34m:\u001b[0m\u001b[0;34m\u001b[0m\u001b[0;34m\u001b[0m\u001b[0m\n\u001b[1;32m    468\u001b[0m         \u001b[0;32mraise\u001b[0m \u001b[0mTypeError\u001b[0m\u001b[0;34m(\u001b[0m\u001b[0;34m\"Expected string, Requirement, or Distribution\"\u001b[0m\u001b[0;34m,\u001b[0m \u001b[0mdist\u001b[0m\u001b[0;34m)\u001b[0m\u001b[0;34m\u001b[0m\u001b[0;34m\u001b[0m\u001b[0m\n",
      "\u001b[0;32m/usr/local/lib/python3.7/dist-packages/pkg_resources/__init__.py\u001b[0m in \u001b[0;36mget_provider\u001b[0;34m(moduleOrReq)\u001b[0m\n\u001b[1;32m    340\u001b[0m     \u001b[0;34m\"\"\"Return an IResourceProvider for the named module or requirement\"\"\"\u001b[0m\u001b[0;34m\u001b[0m\u001b[0;34m\u001b[0m\u001b[0m\n\u001b[1;32m    341\u001b[0m     \u001b[0;32mif\u001b[0m \u001b[0misinstance\u001b[0m\u001b[0;34m(\u001b[0m\u001b[0mmoduleOrReq\u001b[0m\u001b[0;34m,\u001b[0m \u001b[0mRequirement\u001b[0m\u001b[0;34m)\u001b[0m\u001b[0;34m:\u001b[0m\u001b[0;34m\u001b[0m\u001b[0;34m\u001b[0m\u001b[0m\n\u001b[0;32m--> 342\u001b[0;31m         \u001b[0;32mreturn\u001b[0m \u001b[0mworking_set\u001b[0m\u001b[0;34m.\u001b[0m\u001b[0mfind\u001b[0m\u001b[0;34m(\u001b[0m\u001b[0mmoduleOrReq\u001b[0m\u001b[0;34m)\u001b[0m \u001b[0;32mor\u001b[0m \u001b[0mrequire\u001b[0m\u001b[0;34m(\u001b[0m\u001b[0mstr\u001b[0m\u001b[0;34m(\u001b[0m\u001b[0mmoduleOrReq\u001b[0m\u001b[0;34m)\u001b[0m\u001b[0;34m)\u001b[0m\u001b[0;34m[\u001b[0m\u001b[0;36m0\u001b[0m\u001b[0;34m]\u001b[0m\u001b[0;34m\u001b[0m\u001b[0;34m\u001b[0m\u001b[0m\n\u001b[0m\u001b[1;32m    343\u001b[0m     \u001b[0;32mtry\u001b[0m\u001b[0;34m:\u001b[0m\u001b[0;34m\u001b[0m\u001b[0;34m\u001b[0m\u001b[0m\n\u001b[1;32m    344\u001b[0m         \u001b[0mmodule\u001b[0m \u001b[0;34m=\u001b[0m \u001b[0msys\u001b[0m\u001b[0;34m.\u001b[0m\u001b[0mmodules\u001b[0m\u001b[0;34m[\u001b[0m\u001b[0mmoduleOrReq\u001b[0m\u001b[0;34m]\u001b[0m\u001b[0;34m\u001b[0m\u001b[0;34m\u001b[0m\u001b[0m\n",
      "\u001b[0;32m/usr/local/lib/python3.7/dist-packages/pkg_resources/__init__.py\u001b[0m in \u001b[0;36mrequire\u001b[0;34m(self, *requirements)\u001b[0m\n\u001b[1;32m    884\u001b[0m         \u001b[0mincluded\u001b[0m\u001b[0;34m,\u001b[0m \u001b[0meven\u001b[0m \u001b[0;32mif\u001b[0m \u001b[0mthey\u001b[0m \u001b[0mwere\u001b[0m \u001b[0malready\u001b[0m \u001b[0mactivated\u001b[0m \u001b[0;32min\u001b[0m \u001b[0mthis\u001b[0m \u001b[0mworking\u001b[0m \u001b[0mset\u001b[0m\u001b[0;34m.\u001b[0m\u001b[0;34m\u001b[0m\u001b[0;34m\u001b[0m\u001b[0m\n\u001b[1;32m    885\u001b[0m         \"\"\"\n\u001b[0;32m--> 886\u001b[0;31m         \u001b[0mneeded\u001b[0m \u001b[0;34m=\u001b[0m \u001b[0mself\u001b[0m\u001b[0;34m.\u001b[0m\u001b[0mresolve\u001b[0m\u001b[0;34m(\u001b[0m\u001b[0mparse_requirements\u001b[0m\u001b[0;34m(\u001b[0m\u001b[0mrequirements\u001b[0m\u001b[0;34m)\u001b[0m\u001b[0;34m)\u001b[0m\u001b[0;34m\u001b[0m\u001b[0;34m\u001b[0m\u001b[0m\n\u001b[0m\u001b[1;32m    887\u001b[0m \u001b[0;34m\u001b[0m\u001b[0m\n\u001b[1;32m    888\u001b[0m         \u001b[0;32mfor\u001b[0m \u001b[0mdist\u001b[0m \u001b[0;32min\u001b[0m \u001b[0mneeded\u001b[0m\u001b[0;34m:\u001b[0m\u001b[0;34m\u001b[0m\u001b[0;34m\u001b[0m\u001b[0m\n",
      "\u001b[0;32m/usr/local/lib/python3.7/dist-packages/pkg_resources/__init__.py\u001b[0m in \u001b[0;36mresolve\u001b[0;34m(self, requirements, env, installer, replace_conflicting, extras)\u001b[0m\n\u001b[1;32m    775\u001b[0m                 \u001b[0;31m# Oops, the \"best\" so far conflicts with a dependency\u001b[0m\u001b[0;34m\u001b[0m\u001b[0;34m\u001b[0m\u001b[0;34m\u001b[0m\u001b[0m\n\u001b[1;32m    776\u001b[0m                 \u001b[0mdependent_req\u001b[0m \u001b[0;34m=\u001b[0m \u001b[0mrequired_by\u001b[0m\u001b[0;34m[\u001b[0m\u001b[0mreq\u001b[0m\u001b[0;34m]\u001b[0m\u001b[0;34m\u001b[0m\u001b[0;34m\u001b[0m\u001b[0m\n\u001b[0;32m--> 777\u001b[0;31m                 \u001b[0;32mraise\u001b[0m \u001b[0mVersionConflict\u001b[0m\u001b[0;34m(\u001b[0m\u001b[0mdist\u001b[0m\u001b[0;34m,\u001b[0m \u001b[0mreq\u001b[0m\u001b[0;34m)\u001b[0m\u001b[0;34m.\u001b[0m\u001b[0mwith_context\u001b[0m\u001b[0;34m(\u001b[0m\u001b[0mdependent_req\u001b[0m\u001b[0;34m)\u001b[0m\u001b[0;34m\u001b[0m\u001b[0;34m\u001b[0m\u001b[0m\n\u001b[0m\u001b[1;32m    778\u001b[0m \u001b[0;34m\u001b[0m\u001b[0m\n\u001b[1;32m    779\u001b[0m             \u001b[0;31m# push the new requirements onto the stack\u001b[0m\u001b[0;34m\u001b[0m\u001b[0;34m\u001b[0m\u001b[0;34m\u001b[0m\u001b[0m\n",
      "\u001b[0;31mContextualVersionConflict\u001b[0m: (PyYAML 3.13 (/usr/local/lib/python3.7/dist-packages), Requirement.parse('PyYAML<6.0.0,>=5.4.1'), {'cltk'})"
     ]
    }
   ],
   "source": [
    "import sys\n",
    "import os\n",
    "from cltk.sentence.lat import LatinPunktSentenceTokenizer\n",
    "import matplotlib.pyplot as plt\n",
    "import umap \n",
    "import numpy as np\n",
    "import pandas as pd\n",
    "syspath = 'LatinBERT/'\n",
    "\n",
    "if syspath not in sys.path:\n",
    "  sys.path.append(syspath)\n",
    "from latbert import LatinBERT #SCRIPT custom Python\n",
    "\n",
    "\n",
    "from cltk.data.fetch import FetchCorpus\n",
    "from cltk.tokenizers.lat.lat import LatinWordTokenizer as WordTokenizer\n",
    "from cltk.sentence.lat import LatinPunktSentenceTokenizer as SentenceTokenizer\n",
    "from cltk import NLP\n",
    "\n",
    "corpus_downloader = FetchCorpus(language=\"lat\")\n",
    "corpus_downloader.list_corpora\n",
    "corpus_downloader.import_corpus(\"lat_models_cltk\")\n",
    "\n",
    "cltk_nlp = NLP(language=\"lat\")\n",
    "\n",
    "\n",
    "\n",
    "tokenizerPath = 'LatinBERT/latin.subword.encoder'\n",
    "bertPath = 'latin_bert/'\n",
    "bert=LatinBERT(tokenizerPath=tokenizerPath, bertPath=bertPath)"
   ]
  },
  {
   "cell_type": "code",
   "execution_count": null,
   "id": "_d6eo_IVStNw",
   "metadata": {
    "id": "_d6eo_IVStNw"
   },
   "outputs": [],
   "source": [
    "words=[]\n",
    "for i in range(len(bert_sents)):\n",
    "  for j in range(len(bert_sents[i])):\n",
    "    word=bert_sents[i][j][0]\n",
    "    if word not in words:\n",
    "      words.append(word)\n"
   ]
  },
  {
   "cell_type": "markdown",
   "id": "_hh0Q4964VZl",
   "metadata": {
    "id": "_hh0Q4964VZl"
   },
   "source": [
    "# confronto tra Seneca e Dante\n",
    "non posso passare a bert l intero testo non diviso in frasi come fa ari perche é troppo lungo da calcolare"
   ]
  },
  {
   "cell_type": "code",
   "execution_count": null,
   "id": "T_Q7y9gd49x3",
   "metadata": {
    "id": "T_Q7y9gd49x3"
   },
   "outputs": [],
   "source": [
    "!tar -xf LatinBERT/Seneca.tar.gz\n",
    "!tar -xf LatinBERT/Dante.tar.gz\n",
    "!tar -xf LatinBERT/Aquina.tar.gz"
   ]
  },
  {
   "cell_type": "code",
   "execution_count": null,
   "id": "YMwZLyTj47rs",
   "metadata": {
    "colab": {
     "base_uri": "https://localhost:8080/"
    },
    "id": "YMwZLyTj47rs",
    "outputId": "e32a4dd0-fb45-4c25-f28d-cc6acc84a001"
   },
   "outputs": [
    {
     "data": {
      "text/plain": [
       "87"
      ]
     },
     "execution_count": 3,
     "metadata": {
      "tags": []
     },
     "output_type": "execute_result"
    }
   ],
   "source": [
    "path='Aquina/'\n",
    "os.listdir(path)\n",
    "\n",
    "aquina = []\n",
    "\n",
    "for doc in os.listdir(path):\n",
    "    f = open(path+doc, \"r\")\n",
    "    aquina.append(f.read())\n",
    "len(aquina)"
   ]
  },
  {
   "cell_type": "code",
   "execution_count": null,
   "id": "Vokj9a4lKEQY",
   "metadata": {
    "colab": {
     "base_uri": "https://localhost:8080/"
    },
    "id": "Vokj9a4lKEQY",
    "outputId": "bf775290-84a6-4a0d-9370-b210cdff4904"
   },
   "outputs": [
    {
     "data": {
      "text/plain": [
       "7"
      ]
     },
     "execution_count": 4,
     "metadata": {
      "tags": []
     },
     "output_type": "execute_result"
    }
   ],
   "source": [
    "aquina=aquina[3:10]\n",
    "len(aquina)"
   ]
  },
  {
   "cell_type": "code",
   "execution_count": null,
   "id": "tPZuYPZ5G-OZ",
   "metadata": {
    "colab": {
     "base_uri": "https://localhost:8080/"
    },
    "id": "tPZuYPZ5G-OZ",
    "outputId": "4e4e9547-e57d-46f8-db9b-05afce426190"
   },
   "outputs": [
    {
     "data": {
      "text/plain": [
       "62"
      ]
     },
     "execution_count": 5,
     "metadata": {
      "tags": []
     },
     "output_type": "execute_result"
    }
   ],
   "source": [
    "path='Seneca/'\n",
    "os.listdir(path)\n",
    "\n",
    "seneca = []\n",
    "\n",
    "for doc in os.listdir(path):\n",
    "    f = open(path+doc, \"r\")\n",
    "    seneca.append(f.read())\n",
    "len(seneca)"
   ]
  },
  {
   "cell_type": "code",
   "execution_count": null,
   "id": "KIyTwKPTEArP",
   "metadata": {
    "colab": {
     "base_uri": "https://localhost:8080/"
    },
    "id": "KIyTwKPTEArP",
    "outputId": "213c26f3-90f5-4239-9844-8639c9525bb0"
   },
   "outputs": [
    {
     "data": {
      "text/plain": [
       "7"
      ]
     },
     "execution_count": 6,
     "metadata": {
      "tags": []
     },
     "output_type": "execute_result"
    }
   ],
   "source": [
    "seneca=seneca[3:10]\n",
    "len(seneca)"
   ]
  },
  {
   "cell_type": "code",
   "execution_count": null,
   "id": "oB24FmSu5JIc",
   "metadata": {
    "colab": {
     "base_uri": "https://localhost:8080/"
    },
    "id": "oB24FmSu5JIc",
    "outputId": "2bfe2e4f-5e69-4dc8-b1ac-e78436ae0696"
   },
   "outputs": [
    {
     "data": {
      "text/plain": [
       "7"
      ]
     },
     "execution_count": 7,
     "metadata": {
      "tags": []
     },
     "output_type": "execute_result"
    }
   ],
   "source": [
    "import os\n",
    "path='Dante/'\n",
    "\n",
    "dante = []\n",
    "\n",
    "for doc in os.listdir(path):\n",
    "    f = open(path+doc, \"r\")\n",
    "    dante.append(f.read())\n",
    "len(dante)    "
   ]
  },
  {
   "cell_type": "code",
   "execution_count": null,
   "id": "wZ-t0Quh_ayr",
   "metadata": {
    "colab": {
     "base_uri": "https://localhost:8080/"
    },
    "id": "wZ-t0Quh_ayr",
    "outputId": "88d2b3bb-43a9-4740-de72-f9d25b28296b"
   },
   "outputs": [
    {
     "data": {
      "text/plain": [
       "2"
      ]
     },
     "execution_count": 14,
     "metadata": {
      "tags": []
     },
     "output_type": "execute_result"
    }
   ],
   "source": [
    "docs=[]\n",
    "docs.append(dante)\n",
    "docs.append(seneca)\n",
    "len(docs)"
   ]
  },
  {
   "cell_type": "code",
   "execution_count": null,
   "id": "a0GSMZGMJAd-",
   "metadata": {
    "id": "a0GSMZGMJAd-"
   },
   "outputs": [],
   "source": [
    "bert_sents1=bert.get_berts(dante)\n",
    "bert_sents2=bert.get_berts(seneca)\n",
    "bert_sents3=bert.get_berts(aquina)"
   ]
  },
  {
   "cell_type": "code",
   "execution_count": null,
   "id": "SpMNfbPa-Yz8",
   "metadata": {
    "colab": {
     "base_uri": "https://localhost:8080/"
    },
    "id": "SpMNfbPa-Yz8",
    "outputId": "3e70ab4b-7bf4-43c9-80c4-acda30fb9a12"
   },
   "outputs": [
    {
     "data": {
      "text/plain": [
       "(1621, 768)"
      ]
     },
     "execution_count": 21,
     "metadata": {
      "tags": []
     },
     "output_type": "execute_result"
    }
   ],
   "source": [
    "vec1=[]\n",
    "for i in range(len(bert_sents1)):\n",
    "  vec1.append(bert_sents1[i][0][1])\n",
    "vecx1=np.array(vec1)\n",
    "vecx1.shape"
   ]
  },
  {
   "cell_type": "code",
   "execution_count": null,
   "id": "UmmIc-PP-Y0B",
   "metadata": {
    "colab": {
     "base_uri": "https://localhost:8080/"
    },
    "id": "UmmIc-PP-Y0B",
    "outputId": "bb037d69-848e-4b58-a546-a80521bddae8"
   },
   "outputs": [
    {
     "data": {
      "text/plain": [
       "(3891, 768)"
      ]
     },
     "execution_count": 22,
     "metadata": {
      "tags": []
     },
     "output_type": "execute_result"
    }
   ],
   "source": [
    "vec2=[]\n",
    "for i in range(len(bert_sents2)):\n",
    "  vec2.append(bert_sents2[i][0][1])\n",
    "vecx2=np.array(vec2)\n",
    "vecx2.shape"
   ]
  },
  {
   "cell_type": "code",
   "execution_count": null,
   "id": "4xePnHWsKdmr",
   "metadata": {
    "colab": {
     "base_uri": "https://localhost:8080/"
    },
    "id": "4xePnHWsKdmr",
    "outputId": "6192bb39-15ba-4ff8-a28a-7d77fbc1a2e1"
   },
   "outputs": [
    {
     "data": {
      "text/plain": [
       "(1322, 768)"
      ]
     },
     "execution_count": 23,
     "metadata": {
      "tags": []
     },
     "output_type": "execute_result"
    }
   ],
   "source": [
    "vec3=[]\n",
    "for i in range(len(bert_sents3)):\n",
    "  vec3.append(bert_sents3[i][0][1])\n",
    "vecx3=np.array(vec3)\n",
    "vecx3.shape"
   ]
  },
  {
   "cell_type": "code",
   "execution_count": null,
   "id": "-Q_sYNa85AAH",
   "metadata": {
    "colab": {
     "base_uri": "https://localhost:8080/"
    },
    "id": "-Q_sYNa85AAH",
    "outputId": "a6275829-0625-44b4-ce7b-d7edc0eacfe9"
   },
   "outputs": [
    {
     "data": {
      "text/plain": [
       "1"
      ]
     },
     "execution_count": 24,
     "metadata": {
      "tags": []
     },
     "output_type": "execute_result"
    }
   ],
   "source": [
    "piotr=[]\n",
    "f = open('piotr_test.txt', \"r\")\n",
    "piotr.append(f.read())\n",
    "len(piotr)"
   ]
  },
  {
   "cell_type": "code",
   "execution_count": null,
   "id": "bEcsy6re5Ez1",
   "metadata": {
    "id": "bEcsy6re5Ez1"
   },
   "outputs": [],
   "source": [
    "bert_piotr=bert.get_berts(piotr)"
   ]
  },
  {
   "cell_type": "code",
   "execution_count": null,
   "id": "DwJnpquSBnJW",
   "metadata": {
    "colab": {
     "base_uri": "https://localhost:8080/"
    },
    "id": "DwJnpquSBnJW",
    "outputId": "55d76e82-8988-4a6f-d7d2-dbb3bf638f5f"
   },
   "outputs": [
    {
     "data": {
      "text/plain": [
       "(14, 768)"
      ]
     },
     "execution_count": 26,
     "metadata": {
      "tags": []
     },
     "output_type": "execute_result"
    }
   ],
   "source": [
    "vec4=[]\n",
    "for i in range(len(bert_piotr)):\n",
    "  vec4.append(bert_piotr[i][0][1])\n",
    "vecx4=np.array(vec4)\n",
    "vecx4.shape"
   ]
  },
  {
   "cell_type": "code",
   "execution_count": null,
   "id": "XirP65E3puKP",
   "metadata": {
    "id": "XirP65E3puKP"
   },
   "outputs": [],
   "source": []
  },
  {
   "cell_type": "code",
   "execution_count": null,
   "id": "KWh2hRqo-bE5",
   "metadata": {
    "colab": {
     "base_uri": "https://localhost:8080/"
    },
    "id": "KWh2hRqo-bE5",
    "outputId": "c0c086ce-94fa-4b3e-86e4-17f199b635d6"
   },
   "outputs": [
    {
     "data": {
      "text/plain": [
       "(8156,)"
      ]
     },
     "execution_count": 27,
     "metadata": {
      "tags": []
     },
     "output_type": "execute_result"
    }
   ],
   "source": [
    "y_label=np.concatenate((np.ones(vecx1.shape[0]),0*np.ones(vecx2.shape[0]),-1*np.ones(vecx3.shape[0]),2*np.ones(vecx3.shape[0])))\n",
    "y_label.shape"
   ]
  },
  {
   "cell_type": "code",
   "execution_count": null,
   "id": "7VHpo-g5CuNf",
   "metadata": {
    "colab": {
     "base_uri": "https://localhost:8080/"
    },
    "id": "7VHpo-g5CuNf",
    "outputId": "d195ce74-41b6-483e-a2e9-97586168f301"
   },
   "outputs": [
    {
     "data": {
      "text/plain": [
       "(6834, 768)"
      ]
     },
     "execution_count": 39,
     "metadata": {
      "tags": []
     },
     "output_type": "execute_result"
    }
   ],
   "source": [
    "X=np.vstack((vecx1,vecx2,vecx3))\n",
    "X.shape"
   ]
  },
  {
   "cell_type": "code",
   "execution_count": null,
   "id": "3_YkW9bSM3Gn",
   "metadata": {
    "id": "3_YkW9bSM3Gn"
   },
   "outputs": [],
   "source": [
    "from sklearn.cluster import KMeans\n",
    "kmeans = KMeans(n_clusters=3, random_state=0).fit(X)"
   ]
  },
  {
   "cell_type": "code",
   "execution_count": null,
   "id": "cV9r3O5xM3AP",
   "metadata": {
    "colab": {
     "base_uri": "https://localhost:8080/",
     "height": 282
    },
    "id": "cV9r3O5xM3AP",
    "outputId": "9a18d787-c85e-4eac-e41b-3e3b6ec8ef00"
   },
   "outputs": [
    {
     "data": {
      "text/plain": [
       "[<matplotlib.lines.Line2D at 0x7f25eb2750d0>]"
      ]
     },
     "execution_count": 29,
     "metadata": {
      "tags": []
     },
     "output_type": "execute_result"
    },
    {
     "data": {
      "image/png": "[encoded data removed]",
      "text/plain": [
       "<Figure size 432x288 with 1 Axes>"
      ]
     },
     "metadata": {
      "needs_background": "light",
      "tags": []
     },
     "output_type": "display_data"
    }
   ],
   "source": [
    "plt.plot(kmeans.labels_)"
   ]
  },
  {
   "cell_type": "code",
   "execution_count": null,
   "id": "wyB8faYwNcbZ",
   "metadata": {
    "colab": {
     "base_uri": "https://localhost:8080/",
     "height": 419
    },
    "id": "wyB8faYwNcbZ",
    "outputId": "184bb6cd-3d5a-4be2-c2a8-df3de2ca12a3"
   },
   "outputs": [
    {
     "data": {
      "text/html": [
       "<div>\n",
       "<style scoped>\n",
       "    .dataframe tbody tr th:only-of-type {\n",
       "        vertical-align: middle;\n",
       "    }\n",
       "\n",
       "    .dataframe tbody tr th {\n",
       "        vertical-align: top;\n",
       "    }\n",
       "\n",
       "    .dataframe thead th {\n",
       "        text-align: right;\n",
       "    }\n",
       "</style>\n",
       "<table border=\"1\" class=\"dataframe\">\n",
       "  <thead>\n",
       "    <tr style=\"text-align: right;\">\n",
       "      <th></th>\n",
       "      <th>0</th>\n",
       "    </tr>\n",
       "  </thead>\n",
       "  <tbody>\n",
       "    <tr>\n",
       "      <th>0</th>\n",
       "      <td>2</td>\n",
       "    </tr>\n",
       "    <tr>\n",
       "      <th>1</th>\n",
       "      <td>2</td>\n",
       "    </tr>\n",
       "    <tr>\n",
       "      <th>2</th>\n",
       "      <td>2</td>\n",
       "    </tr>\n",
       "    <tr>\n",
       "      <th>3</th>\n",
       "      <td>2</td>\n",
       "    </tr>\n",
       "    <tr>\n",
       "      <th>4</th>\n",
       "      <td>2</td>\n",
       "    </tr>\n",
       "    <tr>\n",
       "      <th>...</th>\n",
       "      <td>...</td>\n",
       "    </tr>\n",
       "    <tr>\n",
       "      <th>6829</th>\n",
       "      <td>1</td>\n",
       "    </tr>\n",
       "    <tr>\n",
       "      <th>6830</th>\n",
       "      <td>1</td>\n",
       "    </tr>\n",
       "    <tr>\n",
       "      <th>6831</th>\n",
       "      <td>1</td>\n",
       "    </tr>\n",
       "    <tr>\n",
       "      <th>6832</th>\n",
       "      <td>1</td>\n",
       "    </tr>\n",
       "    <tr>\n",
       "      <th>6833</th>\n",
       "      <td>1</td>\n",
       "    </tr>\n",
       "  </tbody>\n",
       "</table>\n",
       "<p>6834 rows × 1 columns</p>\n",
       "</div>"
      ],
      "text/plain": [
       "      0\n",
       "0     2\n",
       "1     2\n",
       "2     2\n",
       "3     2\n",
       "4     2\n",
       "...  ..\n",
       "6829  1\n",
       "6830  1\n",
       "6831  1\n",
       "6832  1\n",
       "6833  1\n",
       "\n",
       "[6834 rows x 1 columns]"
      ]
     },
     "execution_count": 25,
     "metadata": {
      "tags": []
     },
     "output_type": "execute_result"
    }
   ],
   "source": [
    "df=pd.DataFrame(kmeans.labels_)\n",
    "df"
   ]
  },
  {
   "cell_type": "code",
   "execution_count": null,
   "id": "jBri91WpUboP",
   "metadata": {
    "id": "jBri91WpUboP"
   },
   "outputs": [],
   "source": [
    "from sklearn.manifold import TSNE\n",
    "X_embedded = TSNE(n_components=2).fit_transform(X)"
   ]
  },
  {
   "cell_type": "code",
   "execution_count": null,
   "id": "7JWjWUCyVJY6",
   "metadata": {
    "colab": {
     "base_uri": "https://localhost:8080/",
     "height": 299
    },
    "id": "7JWjWUCyVJY6",
    "outputId": "43c49de4-0517-40a5-cbdb-389467b37458"
   },
   "outputs": [
    {
     "name": "stderr",
     "output_type": "stream",
     "text": [
      "No handles with labels found to put in legend.\n"
     ]
    },
    {
     "data": {
      "text/plain": [
       "<matplotlib.legend.Legend at 0x7f25ea1df3d0>"
      ]
     },
     "execution_count": 42,
     "metadata": {
      "tags": []
     },
     "output_type": "execute_result"
    },
    {
     "data": {
      "image/png": "[encoded data removed]",
      "text/plain": [
       "<Figure size 432x288 with 1 Axes>"
      ]
     },
     "metadata": {
      "needs_background": "light",
      "tags": []
     },
     "output_type": "display_data"
    }
   ],
   "source": [
    "plt.scatter(X_embedded[:, 0], X_embedded[:, 1], s=5,c=y_label);\n",
    "plt.legend()"
   ]
  },
  {
   "cell_type": "code",
   "execution_count": null,
   "id": "BYftWfHfDOQF",
   "metadata": {
    "id": "BYftWfHfDOQF"
   },
   "outputs": [],
   "source": [
    "standard_embedding = umap.UMAP(n_components=2,n_neighbors=20,metric='cosine').fit_transform(X)"
   ]
  },
  {
   "cell_type": "code",
   "execution_count": null,
   "id": "IaK5gh1vDTiU",
   "metadata": {
    "colab": {
     "base_uri": "https://localhost:8080/",
     "height": 299
    },
    "id": "IaK5gh1vDTiU",
    "outputId": "2d81ff2c-157a-4a21-edf5-4c70ea786628"
   },
   "outputs": [
    {
     "name": "stderr",
     "output_type": "stream",
     "text": [
      "No handles with labels found to put in legend.\n"
     ]
    },
    {
     "data": {
      "text/plain": [
       "<matplotlib.legend.Legend at 0x7f2670e4ae10>"
      ]
     },
     "execution_count": 46,
     "metadata": {
      "tags": []
     },
     "output_type": "execute_result"
    },
    {
     "data": {
      "image/png": "[encoded data removed]",
      "text/plain": [
       "<Figure size 432x288 with 1 Axes>"
      ]
     },
     "metadata": {
      "needs_background": "light",
      "tags": []
     },
     "output_type": "display_data"
    }
   ],
   "source": [
    "plt.scatter(standard_embedding[:, 0], standard_embedding[:, 1], s=5,c=y_label);\n",
    "plt.legend()"
   ]
  },
  {
   "cell_type": "code",
   "execution_count": null,
   "id": "sNFyZQcJ9-JO",
   "metadata": {
    "colab": {
     "base_uri": "https://localhost:8080/"
    },
    "id": "sNFyZQcJ9-JO",
    "outputId": "9f0438bb-f76a-4c96-8b68-120aa8816296"
   },
   "outputs": [
    {
     "name": "stderr",
     "output_type": "stream",
     "text": [
      "/usr/local/lib/python3.7/dist-packages/numba/np/ufunc/parallel.py:363: NumbaWarning: The TBB threading layer requires TBB version 2019.5 or later i.e., TBB_INTERFACE_VERSION >= 11005. Found TBB_INTERFACE_VERSION = 9107. The TBB threading layer is disabled.\n",
      "  warnings.warn(problem)\n",
      "/usr/local/lib/python3.7/dist-packages/umap/umap_.py:2214: UserWarning: n_neighbors is larger than the dataset size; truncating to X.shape[0] - 1\n",
      "  \"n_neighbors is larger than the dataset size; truncating to \"\n"
     ]
    }
   ],
   "source": [
    "standard_embedding1 = umap.UMAP(n_components=2,n_neighbors=50,metric='cosine').fit_transform(vecx1) \n",
    "standard_embedding2 = umap.UMAP(n_components=2,n_neighbors=50,metric='cosine').fit_transform(vecx2) \n",
    "standard_embedding3 = umap.UMAP(n_components=2,n_neighbors=50,metric='cosine').fit_transform(vecx3)\n",
    "standard_embedding4 = umap.UMAP(n_components=2,n_neighbors=50,metric='cosine').fit_transform(vecx4)"
   ]
  },
  {
   "cell_type": "code",
   "execution_count": null,
   "id": "xtJky_JM-AoX",
   "metadata": {
    "colab": {
     "base_uri": "https://localhost:8080/",
     "height": 282
    },
    "id": "xtJky_JM-AoX",
    "outputId": "75a037cd-f7ab-49ab-c9b7-7d6806c1767d"
   },
   "outputs": [
    {
     "data": {
      "text/plain": [
       "<matplotlib.legend.Legend at 0x7ff25d3d6450>"
      ]
     },
     "execution_count": 29,
     "metadata": {
      "tags": []
     },
     "output_type": "execute_result"
    },
    {
     "data": {
      "image/png": "[encoded data removed]",
      "text/plain": [
       "<Figure size 432x288 with 1 Axes>"
      ]
     },
     "metadata": {
      "needs_background": "light",
      "tags": []
     },
     "output_type": "display_data"
    }
   ],
   "source": [
    "plt.scatter(standard_embedding1[:, 0], standard_embedding1[:, 1], s=5, cmap='Spectral',label='dante');\n",
    "plt.scatter(standard_embedding2[:, 0], standard_embedding2[:, 1], s=5, cmap='Spectral',label='seneca');\n",
    "plt.scatter(standard_embedding3[:, 0], standard_embedding3[:, 1], s=5, cmap='Spectral',label='aquina');\n",
    "plt.scatter(standard_embedding4[:, 0], standard_embedding4[:, 1], s=5, cmap='Spectral',label='piotr');\n",
    "\n",
    "plt.legend()"
   ]
  },
  {
   "cell_type": "markdown",
   "id": "J4uEwwnyyVTQ",
   "metadata": {
    "id": "J4uEwwnyyVTQ"
   },
   "source": [
    "# usando i testi di piotr\n",
    "\n"
   ]
  },
  {
   "cell_type": "code",
   "execution_count": null,
   "id": "Mq9Q2ZeFyUua",
   "metadata": {
    "colab": {
     "base_uri": "https://localhost:8080/"
    },
    "id": "Mq9Q2ZeFyUua",
    "outputId": "1856ed5d-9441-4871-f02a-97a14af1c99e"
   },
   "outputs": [
    {
     "data": {
      "text/plain": [
       "['Haec sunt nomina mancipiorum\\n\\nUt servi venditi facultatem dominus querat. Si quis servum suum \\nvendiderit, eius nesciens facultatem, habebit inquirendi liberam \\npotestatem, ut sibi vindicet ille, qui vindidit, cum potuerit invenire \\nrem servi venditi\\n\\nTradidit igitur Etih una cum filio suo Helmperto sancto martyri \\nEmmerammo in pago Sualaueldun in comitatu Ernusti comitis proprietem \\nsuam qualem visus est hgabere ad Altheim et Papenheim, Pinezwanga et \\nTotenheim, Vuimeresheim et at Echineperc vineam cum vinitioribus nec \\nnon ecclesiam cum edificiis, inter hoc omnia de terra arabili hobas \\nXXVII et mancipia XXIII, cum curtilibus agris pratis silvis aquis \\naquarumque decursibus et cum omnibus ad predicta loca rite \\npertinentibus, in manum scilicet Tutonis episcopi et advocati sui \\nImmonis in perpetuam proprietatem;[…] Econtra vero, retradente eodem \\nadvocato Immone una cum manu episcopi, accepit predictus Etih et \\nfilius suus Helmpreht de rebus sancti Emmerammi iuxta fluenta Glana \\nlocum nomine Perc qui vulgo Sintipach vocatur, et Teitinga cum \\necclesiis mancipiis XXX, edifictus terre arabilis hobis XVIII, pratis \\nsilvis molendinis et cum omnibus appendiciis suis similiter in \\nperpetuam proprietatem;.\\n\\nOmnibus christiane fidei religiosos cultoribus ac regie et \\ninperialis excellentie magnitudinem fide debita iure honorantibus per \\nsubiectionem adhibiti scripti patere volumus, qualiter nos frequens ac \\ndevotum servitium fidelis nostri Adalberti videlicet Magadaburgensis \\necclesie primi archiepiscopi inspicientes ob peticionem et interventum \\nillius quandam nostri iuris ancillam Walzam nomine una cum filio suo \\nHuodi vocato nostreque proprietatis mansum unum quem vir eius Mais \\nnominatus nostra ex parte possidet, cum omnibus utensilibus ad eundem \\nmansum in villa Bracla et in pago Vuestfalon dicto in comitatu \\nBerhardi comitis situm rite pertinentibus in edificiis areis terris \\ncultis et incultis agris pratis campis pascuis silvis exitibus et \\nreditibus viis et inviis quesitis et inquirendis cunctisque aliis \\nappendiciis que adhuc dici aliquo modo aut nominaru possunt, ecclesie \\nMagadaburgensi cui ipse venerabiliter presidet, donavimus atque per \\nhanc dominationis nostre auctoritatem ad integrum in proprietatem \\ntradidimus, ea videlicet ratione ut prefata mulier ac filius eius et \\nmansus ecclesie a nobis in proprium traditus deinceps in iure ac \\nservitute eiusdem ecclesie et ipsius iam dicti Adalberti venerabilis \\narchiepiscopi succesorumque illius, ut hactenus in nostro fisco \\nmanserunt, firmiter persistant.\\n\\n\\nSi quis vero pro remedium animae suae mancipia vel loca sanctis \\necclesiis vel monasteris offeri curaverit, conditio, quam qui \\ndonaverit scripserit, in omnibus observetur; pariter et de familiis \\necclesiae id intuitu pietatis et iustitiae convenit observari, ut \\nfamiliae Dei leviorem quam privatorum servi opere teneantur, ita ut \\nquarta tributi vel quodlibet operis sui benedictines Deo ex presente \\ntempore sibi a sacerdotibus concessa esse congaudeant\\n\\nChuonradus dei gratia Romanorum imperator augustus Berenhardo duci, \\nSigifrido comiti, Bernhardo marchioni salutem et gratiam. Quamvis pro \\ntotius rei publice longe lateque procuranda utilitate iugem debeamus \\nsollicitudinem gerere, tamen ut pro ecclesiarum dei statu sollertius \\ninvigilemus, nos obligatiores esse non ignoramus. Unde quia sancte \\nFardensis ecclesiae mancipia ceu bruta animalia pro quantulocumque \\npretio hactenus venundata fuisse audivimus, non solum illam nefariam \\nconsuetudinem admiramur, verum etiam ut rem deo hominibusque \\ndetestabilem execramur, maxime cum secundum canonicam auctoritatem \\nnullius ecclesiae praedia vel mancipia pro alia aliqua vicissitudine, \\nnisi praedia pro praediis, mancipia pro mancipiis pro eque bonis vel \\nmelioribus debeant mutuari. Idcirco autem huiuscemodi morem sanctorum \\npatrum traditionibus repugnanetem ulterius ibidem exerceri nostra \\nimperiali potestate interdicimus et vobis quibus harum provinciarum \\nregimen commisimus, sub dei nostreque gratie obtentu imperamus, ut \\nubicumque vel inter vestros vel alios eiusdem ecclesie mancipia ita \\nvendita inveniantur, illius loci episcopo vestro iuvamine reddantur, \\nea scilicet ratione ut episcopus emptori tantum, quantum pro eis \\ndedit, restituat et sue mancipia recipiat.\\n\\nmaxime cum secundum canonicam auctoritatem nullius ecclesiae \\npraedia vel mancipia pro alia aliqua vicissitudine, nisi praedia pro \\npraediis, mancipia pro mancipiis pro eque bonis vel melioribus debeant \\nmutuari\\n\\nUt mercatores huius regni, christiani sive Iudei, mancipia pagana, \\nque per tot populos et civitates fidelium transeuntes ad manus \\ninfidelium et sevissimorum hostium nostrorum perducunt, ex quo et ipsi \\ninfelices servi, qui, si a christianis emerentur, poterant salvari, \\nmiserabiliter pereunt et inimicorum regni maximus numerus augetur, \\ncoerceantur a piis principibus nostris et intra christioanorum fines \\nvendere conpellantur, ne tam horrenda crudelitate et aperta \\ninfidelitate et animarum dampnis deus exasperetur et vires hostibus \\naugeantur\\n\\nDe mancipia quae vendunt, ut in praesentia episcopi vel comitis \\nsit, aut in praesentia archidiaconi aut centenarii aut in presentia \\nvicedomni aut iudicis comitis aut ante bene nota testimonia; et foris \\nmarca nemo mancipium vendat. Et qui hoc fecerit, tantas vices bannos \\nsolvat quanta mancipias vendidit; et si non habet pretium, in wadio \\npro servo semetipsum comiti donet usque dum ipsum bannum solvat.\\n\\nut nullus aut minor mancipia ad venundandum emere debeant, nec \\naliquis precium ad suos emptores dare debeat propter mancipia \\ncomparanda aut venundanda, quia gravissimum malum est. Scimus omnes, \\nquia deus omnipotens misericordia plenus est, si emendaverimus, \\ndimittet nobis peccata nostra. Itemque precipimus [promittimus], ut \\nquicumque in navibus nostris nauclerium fuerit, nullatenus debeat in \\nnavi sua levare mancipia neque de Venetia, neque de Histria, neque de \\nDalmatia, neque de nullis aliis locis per nullum ingenium; nec etiam \\naliquis hominem [homo] negotiantem vel Iudeum in navi sua levare \\ndebeat. Itemque statuentes statuimus, ut nullus Veneticus suam \\npecuniam [precium suum] ad quemlibet Grecum hominem dare debeat, unde \\nmancipia emant, et nullus Veneticus audeat ultra Polam mancipia \\ntransportare neque in terra Grecorum, neque in nullis locis ea donare; \\nexcepto si acciderit, ut de sua captivitate se redimere debeat, aut \\npro tali causa, unde damnum adcrescat in patria, aut pro causa \\npalatii. Similiter autem statuentes statuimus, ut nullus Veneticus de \\nquolibet Greco homine [ad quemlibet Crecum hominem] vel de terra \\nBeneventi aut de aliis locis pretium tollere presumat propter mancipia \\ninde illuc portanda.\\n']"
      ]
     },
     "execution_count": 11,
     "metadata": {
      "tags": []
     },
     "output_type": "execute_result"
    }
   ],
   "source": [
    "piotr=[]\n",
    "f = open('piotr_test.txt', \"r\")\n",
    "piotr.append(f.read())\n",
    "len(piotr)"
   ]
  },
  {
   "cell_type": "code",
   "execution_count": null,
   "id": "SHweeD2rp_NX",
   "metadata": {
    "id": "SHweeD2rp_NX"
   },
   "outputs": [],
   "source": []
  },
  {
   "cell_type": "markdown",
   "id": "EvMfwTRWzCkn",
   "metadata": {
    "id": "EvMfwTRWzCkn"
   },
   "source": [
    "# Clustering dei testi usando le frasi\n",
    "l'idea é quella di fare diversi docs e poi usare umap a ripetizione"
   ]
  },
  {
   "cell_type": "code",
   "execution_count": null,
   "id": "xD45ac-j1fUR",
   "metadata": {
    "id": "xD45ac-j1fUR"
   },
   "outputs": [],
   "source": [
    "import pandas as pd\n",
    "df=pd.read_csv('text_by_authors')\n",
    "df\n",
    "\n",
    "docs=df['text']"
   ]
  },
  {
   "cell_type": "code",
   "execution_count": null,
   "id": "WRKrbRxF1H4M",
   "metadata": {
    "colab": {
     "base_uri": "https://localhost:8080/"
    },
    "id": "WRKrbRxF1H4M",
    "outputId": "d3df63bf-9e4a-48d4-af0f-bfe99a4c56cc"
   },
   "outputs": [
    {
     "data": {
      "text/plain": [
       "(4, 4)"
      ]
     },
     "execution_count": 26,
     "metadata": {
      "tags": []
     },
     "output_type": "execute_result"
    }
   ],
   "source": [
    "docs1=docs[:4]\n",
    "docs2=docs[4:8]\n",
    "len(docs1),len(docs2)"
   ]
  },
  {
   "cell_type": "code",
   "execution_count": null,
   "id": "xfYkBr_hG9Wy",
   "metadata": {
    "id": "xfYkBr_hG9Wy"
   },
   "outputs": [],
   "source": [
    "bert_sents1=bert.get_berts(docs1) #docs é una lista "
   ]
  },
  {
   "cell_type": "code",
   "execution_count": null,
   "id": "uCSzPXzk1HuX",
   "metadata": {
    "id": "uCSzPXzk1HuX"
   },
   "outputs": [],
   "source": [
    "bert_sents1=bert.get_berts(docs1) #docs é una lista \n",
    "bert_sents2=bert.get_berts(docs2) #docs é una lista "
   ]
  },
  {
   "cell_type": "code",
   "execution_count": null,
   "id": "3wAjFAq90HVT",
   "metadata": {
    "colab": {
     "base_uri": "https://localhost:8080/"
    },
    "id": "3wAjFAq90HVT",
    "outputId": "99b9e2f8-c18b-40cf-c405-9917f9e47cae"
   },
   "outputs": [
    {
     "data": {
      "text/plain": [
       "(1621, 768)"
      ]
     },
     "execution_count": 9,
     "metadata": {
      "tags": []
     },
     "output_type": "execute_result"
    }
   ],
   "source": [
    "vec1=[]\n",
    "for i in range(len(bert_sents1)):\n",
    "  vec1.append(bert_sents1[i][0][1])\n",
    "vecx1=np.array(vec1)\n",
    "vecx1.shape"
   ]
  },
  {
   "cell_type": "code",
   "execution_count": null,
   "id": "JIlbUW950HSz",
   "metadata": {
    "colab": {
     "base_uri": "https://localhost:8080/"
    },
    "id": "JIlbUW950HSz",
    "outputId": "901e3ccc-c05d-44f1-e8a0-14fafe6bdb81"
   },
   "outputs": [
    {
     "data": {
      "text/plain": [
       "(27051, 768)"
      ]
     },
     "execution_count": 10,
     "metadata": {
      "tags": []
     },
     "output_type": "execute_result"
    }
   ],
   "source": [
    "vec2=[]\n",
    "for i in range(len(bert_sents2)):\n",
    "  vec2.append(bert_sents2[i][0][1])\n",
    "vecx2=np.array(vec2)\n",
    "vecx2.shape"
   ]
  },
  {
   "cell_type": "code",
   "execution_count": null,
   "id": "s9aJ_lsv0HPy",
   "metadata": {
    "id": "s9aJ_lsv0HPy"
   },
   "outputs": [],
   "source": [
    "import umap \n",
    "standard_embedding1 = umap.UMAP(n_components=2,n_neighbors=50,metric='cosine').fit_transform(vecx1) \n",
    "standard_embedding2 = umap.UMAP(n_components=2,n_neighbors=50,metric='cosine').fit_transform(vecx2) "
   ]
  },
  {
   "cell_type": "code",
   "execution_count": null,
   "id": "1yhkGdCF0HGD",
   "metadata": {
    "colab": {
     "base_uri": "https://localhost:8080/",
     "height": 282
    },
    "id": "1yhkGdCF0HGD",
    "outputId": "07173247-4c27-4b09-abf1-26b913a91a5c"
   },
   "outputs": [
    {
     "data": {
      "text/plain": [
       "<matplotlib.legend.Legend at 0x7f1f5dd36b90>"
      ]
     },
     "execution_count": 20,
     "metadata": {
      "tags": []
     },
     "output_type": "execute_result"
    },
    {
     "data": {
      "image/png": "[encoded data removed]",
      "text/plain": [
       "<Figure size 432x288 with 1 Axes>"
      ]
     },
     "metadata": {
      "needs_background": "light",
      "tags": []
     },
     "output_type": "display_data"
    }
   ],
   "source": [
    "import matplotlib.pyplot as plt\n",
    "\n",
    "plt.scatter(standard_embedding1[:, 0], standard_embedding1[:, 1], s=5, cmap='Spectral',label='seneca');\n",
    "plt.scatter(standard_embedding2[:, 0], standard_embedding2[:, 1], s=5, cmap='Spectral',label='dante');\n",
    "plt.legend()"
   ]
  },
  {
   "cell_type": "code",
   "execution_count": 1,
   "id": "26e4fedb",
   "metadata": {},
   "outputs": [],
   "source": [
    "import os\n",
    "path='library_super_reduced' \n"
   ]
  },
  {
   "cell_type": "code",
   "execution_count": 5,
   "id": "119fd7c6",
   "metadata": {},
   "outputs": [],
   "source": [
    "a=os.walk(path)"
   ]
  },
  {
   "cell_type": "code",
   "execution_count": 16,
   "id": "1aefbc9e",
   "metadata": {},
   "outputs": [
    {
     "name": "stdout",
     "output_type": "stream",
     "text": [
      "20\n",
      "20\n",
      "20\n",
      "20\n",
      "20\n",
      "20\n",
      "20\n",
      "20\n",
      "20\n",
      "20\n",
      "20\n",
      "20\n",
      "20\n",
      "20\n",
      "20\n",
      "20\n",
      "20\n",
      "20\n",
      "20\n",
      "20\n",
      "19\n",
      "19\n",
      "19\n",
      "19\n",
      "19\n",
      "19\n",
      "19\n",
      "19\n",
      "19\n",
      "19\n",
      "19\n",
      "19\n",
      "19\n",
      "19\n",
      "19\n",
      "19\n",
      "19\n",
      "19\n",
      "19\n",
      "10\n",
      "10\n",
      "10\n",
      "10\n",
      "10\n",
      "10\n",
      "10\n",
      "10\n",
      "10\n",
      "10\n",
      "24\n",
      "24\n",
      "24\n",
      "24\n",
      "24\n",
      "24\n",
      "24\n",
      "24\n",
      "24\n",
      "24\n",
      "24\n",
      "24\n",
      "24\n",
      "24\n",
      "24\n",
      "24\n",
      "24\n",
      "24\n",
      "24\n",
      "24\n",
      "24\n",
      "24\n",
      "24\n",
      "24\n",
      "21\n",
      "21\n",
      "21\n",
      "21\n",
      "21\n",
      "21\n",
      "21\n",
      "21\n",
      "21\n",
      "21\n",
      "21\n",
      "21\n",
      "21\n",
      "21\n",
      "21\n",
      "21\n",
      "21\n",
      "21\n",
      "21\n",
      "21\n",
      "21\n",
      "26\n",
      "26\n",
      "26\n",
      "26\n",
      "26\n",
      "26\n",
      "26\n",
      "26\n",
      "26\n",
      "26\n",
      "26\n",
      "26\n",
      "26\n",
      "26\n",
      "26\n",
      "26\n",
      "26\n",
      "26\n",
      "26\n",
      "26\n",
      "26\n",
      "26\n",
      "26\n",
      "26\n",
      "26\n",
      "26\n",
      "50\n",
      "50\n",
      "50\n",
      "50\n",
      "50\n",
      "50\n",
      "50\n",
      "50\n",
      "50\n",
      "50\n",
      "50\n",
      "50\n",
      "50\n",
      "50\n",
      "50\n",
      "50\n",
      "50\n",
      "50\n",
      "50\n",
      "50\n",
      "50\n",
      "50\n",
      "50\n",
      "50\n",
      "50\n",
      "50\n",
      "50\n",
      "50\n",
      "50\n",
      "50\n",
      "50\n",
      "50\n",
      "50\n",
      "50\n",
      "50\n",
      "50\n",
      "50\n",
      "50\n",
      "50\n",
      "50\n",
      "50\n",
      "50\n",
      "50\n",
      "50\n",
      "50\n",
      "50\n",
      "50\n",
      "50\n",
      "50\n",
      "50\n",
      "24\n",
      "24\n",
      "24\n",
      "24\n",
      "24\n",
      "24\n",
      "24\n",
      "24\n",
      "24\n",
      "24\n",
      "24\n",
      "24\n",
      "24\n",
      "24\n",
      "24\n",
      "24\n",
      "24\n",
      "24\n",
      "24\n",
      "24\n",
      "24\n",
      "24\n",
      "24\n",
      "24\n",
      "14\n",
      "14\n",
      "14\n",
      "14\n",
      "14\n",
      "14\n",
      "14\n",
      "14\n",
      "14\n",
      "14\n",
      "14\n",
      "14\n",
      "14\n",
      "14\n"
     ]
    }
   ],
   "source": [
    "for a,b,c in os.walk(path):\n",
    "    for txt in c:\n",
    "        print(len(c))"
   ]
  },
  {
   "cell_type": "code",
   "execution_count": null,
   "id": "90a55e9a",
   "metadata": {},
   "outputs": [],
   "source": []
  }
 ],
 "metadata": {
  "accelerator": "GPU",
  "colab": {
   "include_colab_link": true,
   "name": "LatinBERT.ipynb",
   "provenance": []
  },
  "kernelspec": {
   "display_name": "Python 3",
   "language": "python",
   "name": "python3"
  },
  "language_info": {
   "codemirror_mode": {
    "name": "ipython",
    "version": 3
   },
   "file_extension": ".py",
   "mimetype": "text/x-python",
   "name": "python",
   "nbconvert_exporter": "python",
   "pygments_lexer": "ipython3",
   "version": "3.9.6"
  }
 },
 "nbformat": 4,
 "nbformat_minor": 5
}
