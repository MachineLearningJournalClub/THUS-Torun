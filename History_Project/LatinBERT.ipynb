{
 "cells": [
  {
   "cell_type": "code",
   "execution_count": 1,
   "id": "28e52f47",
   "metadata": {},
   "outputs": [],
   "source": [
    "import os\n",
    "\n",
    "os.listdir('data/Seneca/')\n",
    "\n",
    "docs = []\n",
    "\n",
    "for doc in os.listdir('data/Seneca/'):\n",
    "    f = open(\"data/Seneca/\"+doc, \"r\")\n",
    "    docs.append(f.read())"
   ]
  },
  {
   "cell_type": "code",
   "execution_count": 2,
   "id": "2ac73ebb",
   "metadata": {},
   "outputs": [],
   "source": [
    "%load_ext autoreload\n",
    "%autoreload 2\n",
    "\n",
    "from cltk.tokenizers.lat.lat import LatinWordTokenizer as WordTokenizer\n",
    "from cltk.sentence.lat import LatinPunktSentenceTokenizer as SentenceTokenizer\n",
    "\n",
    "from cltk import NLP\n",
    "\n",
    "from latbert import LatinBERT"
   ]
  },
  {
   "cell_type": "code",
   "execution_count": 4,
   "id": "4283b8e2",
   "metadata": {},
   "outputs": [],
   "source": [
    "splitter = SentenceTokenizer()\n",
    "prova = splitter.tokenize(docs[0])"
   ]
  },
  {
   "cell_type": "code",
   "execution_count": 21,
   "id": "8e0d2c81",
   "metadata": {},
   "outputs": [
    {
     "name": "stdout",
     "output_type": "stream",
     "text": [
      "‎𐤀 CLTK version '1.0.16'.\n",
      "Pipeline for language 'Latin' (ISO: 'lat'): `LatinNormalizeProcess`, `LatinStanzaProcess`, `LatinEmbeddingsProcess`, `StopsProcess`, `LatinNERProcess`, `LatinLexiconProcess`.\n"
     ]
    }
   ],
   "source": [
    "\n",
    "\n",
    "cltk_nlp = NLP(language=\"lat\")"
   ]
  },
  {
   "cell_type": "code",
   "execution_count": 5,
   "id": "c89f0d52",
   "metadata": {},
   "outputs": [],
   "source": [
    "tokenizerPath = 'models/subword_tokenizer_latin/latin.subword.encoder'\n",
    "bertPath = 'models/latin_bert/'\n",
    "bert=LatinBERT(tokenizerPath=tokenizerPath, bertPath=bertPath)"
   ]
  },
  {
   "cell_type": "code",
   "execution_count": null,
   "id": "5f9fb528",
   "metadata": {},
   "outputs": [],
   "source": [
    "bert_sents=bert.get_berts(docs)"
   ]
  },
  {
   "cell_type": "code",
   "execution_count": null,
   "id": "34e7ae4b",
   "metadata": {},
   "outputs": [],
   "source": []
  }
 ],
 "metadata": {
  "kernelspec": {
   "display_name": "Python 3",
   "language": "python",
   "name": "python3"
  },
  "language_info": {
   "codemirror_mode": {
    "name": "ipython",
    "version": 3
   },
   "file_extension": ".py",
   "mimetype": "text/x-python",
   "name": "python",
   "nbconvert_exporter": "python",
   "pygments_lexer": "ipython3",
   "version": "3.7.10"
  }
 },
 "nbformat": 4,
 "nbformat_minor": 5
}
