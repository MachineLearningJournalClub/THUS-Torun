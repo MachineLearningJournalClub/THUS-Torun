{
 "cells": [
  {
   "cell_type": "code",
   "execution_count": 1,
   "id": "074538ae",
   "metadata": {},
   "outputs": [
    {
     "name": "stderr",
     "output_type": "stream",
     "text": [
      "2021-07-20 23:45:48.611317: I tensorflow/stream_executor/platform/default/dso_loader.cc:53] Successfully opened dynamic library libcudart.so.11.0\n"
     ]
    }
   ],
   "source": [
    "import argparse, sys\n",
    "from cltk.tokenizers.lat.lat import LatinWordTokenizer as WordTokenizer\n",
    "from cltk.sentence.lat import LatinPunktSentenceTokenizer as SentenceTokenizer\n",
    "from tensor2tensor.data_generators import text_encoder\n",
    "import numpy as np\n",
    "import torch\n",
    "from torch import nn\n",
    "from transformers import BertModel, BertPreTrainedModel"
   ]
  },
  {
   "cell_type": "code",
   "execution_count": 2,
   "id": "682ace5e",
   "metadata": {},
   "outputs": [],
   "source": [
    "device = torch.device(\"cuda\" if torch.cuda.is_available() else \"cpu\")"
   ]
  },
  {
   "cell_type": "code",
   "execution_count": 17,
   "id": "bc29879b",
   "metadata": {},
   "outputs": [],
   "source": [
    "data='CIao come stai. io sto bene  123'"
   ]
  },
  {
   "cell_type": "code",
   "execution_count": 18,
   "id": "faf1b86a",
   "metadata": {},
   "outputs": [],
   "source": [
    "sent_tokenizer = SentenceTokenizer()\n",
    "word_tokenizer = WordTokenizer()\n",
    "\n",
    "all_sents=[]\n",
    "\n",
    "text=data.lower()\n",
    "\n",
    "sents=sent_tokenizer.tokenize(text)\n",
    "for sent in sents:\n",
    "    tokens=word_tokenizer.tokenize(sent)\n",
    "    filt_toks=[]\n",
    "    for tok in tokens:\n",
    "        if tok != \"\":\n",
    "            filt_toks.append(tok)\n",
    "    filt_toks.insert(0,\"[CLS]\")\n",
    "    filt_toks.append(\"[SEP]\")\n",
    "\n",
    "    all_sents.append(filt_toks)"
   ]
  },
  {
   "cell_type": "code",
   "execution_count": 19,
   "id": "16d9f8e4",
   "metadata": {},
   "outputs": [
    {
     "data": {
      "text/plain": [
       "[['[CLS]', 'ciao', 'come', 'stai', '.', '[SEP]'],\n",
       " ['[CLS]', 'io', 'sto', 'bene', '123', '[SEP]']]"
      ]
     },
     "execution_count": 19,
     "metadata": {},
     "output_type": "execute_result"
    }
   ],
   "source": [
    "all_sents"
   ]
  },
  {
   "cell_type": "code",
   "execution_count": 21,
   "id": "9bf183dd",
   "metadata": {},
   "outputs": [],
   "source": [
    "maxLen=0\n",
    "for sentence in all_sents:\n",
    "    length=0\n",
    "    for word in sentence:\n",
    "        toks=sent_tokenizer.tokenize(word)\n",
    "        length+=len(toks)\n",
    "\n",
    "    if length> maxLen:\n",
    "        maxLen=length\n"
   ]
  },
  {
   "cell_type": "code",
   "execution_count": 22,
   "id": "51d86746",
   "metadata": {},
   "outputs": [
    {
     "data": {
      "text/plain": [
       "6"
      ]
     },
     "execution_count": 22,
     "metadata": {},
     "output_type": "execute_result"
    }
   ],
   "source": []
  },
  {
   "cell_type": "code",
   "execution_count": null,
   "id": "c073cf50",
   "metadata": {},
   "outputs": [],
   "source": []
  }
 ],
 "metadata": {
  "kernelspec": {
   "display_name": "latinbert",
   "language": "python",
   "name": "latinbert"
  },
  "language_info": {
   "codemirror_mode": {
    "name": "ipython",
    "version": 3
   },
   "file_extension": ".py",
   "mimetype": "text/x-python",
   "name": "python",
   "nbconvert_exporter": "python",
   "pygments_lexer": "ipython3",
   "version": "3.9.6"
  }
 },
 "nbformat": 4,
 "nbformat_minor": 5
}
